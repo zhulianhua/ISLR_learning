{
 "cells": [
  {
   "cell_type": "markdown",
   "metadata": {},
   "source": [
    "## Lab: Support Vector Machine"
   ]
  },
  {
   "cell_type": "markdown",
   "metadata": {},
   "source": [
    "用到的R库是**`e1071`**。但是也可以使用`LiblinearR`, 这个包可以用大规模的线性问题。由于Maximal Margin Classifer是Supprt Vector Classifer的特列(C=0), 这里就只说Support Vector Classifer和Support Vector Machine了。"
   ]
  },
  {
   "cell_type": "markdown",
   "metadata": {},
   "source": [
    "### Support Vector Classifer"
   ]
  },
  {
   "cell_type": "markdown",
   "metadata": {},
   "source": [
    "`e1071`这个库里面有很多统计学习方法。其提供的**`svm()`**函数可以用做Support Vector Classifer, 只需要提供参数**`kernel=\"linear\"`**即可。svm()函数使用一个参数`cost`来控制margin宽度，表示数据点跑到margin内侧(violation)的代价。它跟理论篇里面介绍的C的作用相同。当`cost`很小时(C很大)， margin会很大，反之(C很大)， margin会很小。"
   ]
  },
  {
   "cell_type": "markdown",
   "metadata": {},
   "source": [
    "下面使用一个二维的例子演示，注意我们故意使得两个类有重合（因为数据是正太分布的）。"
   ]
  },
  {
   "cell_type": "code",
   "execution_count": 82,
   "metadata": {
    "collapsed": false
   },
   "outputs": [],
   "source": [
    "library(repr) #改变绘图大小\n",
    "set.seed(1)\n",
    "x = matrix(rnorm(20*2), ncol = 2)\n",
    "y = c(rep(-1,10), rep(1,10))\n",
    "x[y==1,]=x[y==1,]+1 #让一半的点往右移动1，结果还是会和原来的有一部分重叠，因为x是正态分布生成的。\n",
    "#plot(x, col=3-y) #绘图，col表示color"
   ]
  },
  {
   "cell_type": "markdown",
   "metadata": {},
   "source": [
    "接下来把y改成factor(qulitative response)，这样才能用svm()函数做分类，否则就是svm regression machine了（除非使用svm()的type参数控制）。"
   ]
  },
  {
   "cell_type": "code",
   "execution_count": 83,
   "metadata": {
    "collapsed": false
   },
   "outputs": [
    {
     "data": {
      "text/plain": [
       "\n",
       "Call:\n",
       "svm(formula = y ~ ., data = dat, kernel = \"linear\", cost = 10, scale = FALSE)\n",
       "\n",
       "\n",
       "Parameters:\n",
       "   SVM-Type:  C-classification \n",
       " SVM-Kernel:  linear \n",
       "       cost:  10 \n",
       "      gamma:  0.5 \n",
       "\n",
       "Number of Support Vectors:  7\n",
       "\n",
       " ( 4 3 )\n",
       "\n",
       "\n",
       "Number of Classes:  2 \n",
       "\n",
       "Levels: \n",
       " -1 1\n",
       "\n",
       "\n"
      ]
     },
     "metadata": {},
     "output_type": "display_data"
    }
   ],
   "source": [
    "dat = data.frame(x=x, y=as.factor(y)) #创造一个dataframe，有x和y是column names, x是两列，自动包含了两列\n",
    "library(e1071)\n",
    "svmfit = svm(y~., data=dat, kernel = \"linear\", cost=10, scale=FALSE) #scale=FALSE不要对数据作zero mean 和 unit variance处理\n",
    "summary(svmfit)"
   ]
  },
  {
   "cell_type": "code",
   "execution_count": 84,
   "metadata": {
    "collapsed": false
   },
   "outputs": [
    {
     "data": {
      "image/png": "[encoded data removed]",
      "text/plain": [
       "Plot with title \"SVM classification plot\""
      ]
     },
     "metadata": {},
     "output_type": "display_data"
    }
   ],
   "source": [
    "options(repr.plot.width=4.5, repr.plot.height=4) #改变绘图大小\n",
    "plot(svmfit, dat) #"
   ]
  },
  {
   "cell_type": "markdown",
   "metadata": {},
   "source": [
    "结果图里面的x表示support vectors， 可以看到有7个x，它们的编号分别是："
   ]
  },
  {
   "cell_type": "code",
   "execution_count": 85,
   "metadata": {
    "collapsed": false
   },
   "outputs": [
    {
     "data": {
      "text/html": [
       "<ol class=list-inline>\n",
       "\t<li>1</li>\n",
       "\t<li>2</li>\n",
       "\t<li>5</li>\n",
       "\t<li>7</li>\n",
       "\t<li>14</li>\n",
       "\t<li>16</li>\n",
       "\t<li>17</li>\n",
       "</ol>\n"
      ],
      "text/latex": [
       "\\begin{enumerate*}\n",
       "\\item 1\n",
       "\\item 2\n",
       "\\item 5\n",
       "\\item 7\n",
       "\\item 14\n",
       "\\item 16\n",
       "\\item 17\n",
       "\\end{enumerate*}\n"
      ],
      "text/markdown": [
       "1. 1\n",
       "2. 2\n",
       "3. 5\n",
       "4. 7\n",
       "5. 14\n",
       "6. 16\n",
       "7. 17\n",
       "\n",
       "\n"
      ],
      "text/plain": [
       "[1]  1  2  5  7 14 16 17"
      ]
     },
     "metadata": {},
     "output_type": "display_data"
    }
   ],
   "source": [
    "svmfit$index"
   ]
  },
  {
   "cell_type": "markdown",
   "metadata": {},
   "source": [
    "很可惜的是svm()函数并不输出分类边界的参数，也不输出margin的宽度。\n",
    "\n",
    "`e1071`库还带一个函数`tune()`可以用来给svm的结果做cross validation。\n",
    "默认是10-fold CV。"
   ]
  },
  {
   "cell_type": "code",
   "execution_count": 86,
   "metadata": {
    "collapsed": false
   },
   "outputs": [
    {
     "data": {
      "text/plain": [
       "\n",
       "Parameter tuning of 'svm':\n",
       "\n",
       "- sampling method: 10-fold cross validation \n",
       "\n",
       "- best parameters:\n",
       " cost\n",
       "  0.1\n",
       "\n",
       "- best performance: 0.1 \n",
       "\n",
       "- Detailed performance results:\n",
       "   cost error dispersion\n",
       "1 1e-03  0.70  0.4216370\n",
       "2 1e-02  0.70  0.4216370\n",
       "3 1e-01  0.10  0.2108185\n",
       "4 1e+00  0.15  0.2415229\n",
       "5 1e+01  0.15  0.2415229\n",
       "6 1e+02  0.15  0.2415229\n"
      ]
     },
     "metadata": {},
     "output_type": "display_data"
    }
   ],
   "source": [
    "set.seed(1)\n",
    "tune.out = tune(svm, y~., data=dat, kernel=\"linear\", ranges=list(cost=c(0.001, 0.01, 0.1, 1, 10, 100)))\n",
    "summary(tune.out)"
   ]
  },
  {
   "cell_type": "code",
   "execution_count": 87,
   "metadata": {
    "collapsed": false
   },
   "outputs": [
    {
     "data": {
      "text/plain": [
       "\n",
       "Call:\n",
       "best.tune(method = svm, train.x = y ~ ., data = dat, ranges = list(cost = c(0.001, \n",
       "    0.01, 0.1, 1, 10, 100)), kernel = \"linear\")\n",
       "\n",
       "\n",
       "Parameters:\n",
       "   SVM-Type:  C-classification \n",
       " SVM-Kernel:  linear \n",
       "       cost:  0.1 \n",
       "      gamma:  0.5 \n",
       "\n",
       "Number of Support Vectors:  16\n",
       "\n",
       " ( 8 8 )\n",
       "\n",
       "\n",
       "Number of Classes:  2 \n",
       "\n",
       "Levels: \n",
       " -1 1\n",
       "\n",
       "\n"
      ]
     },
     "metadata": {},
     "output_type": "display_data"
    }
   ],
   "source": [
    "bestmodel = tune.out$best.model\n",
    "summary(bestmodel)"
   ]
  },
  {
   "cell_type": "markdown",
   "metadata": {},
   "source": [
    "可以使用`predict()`函数做预测，先来产生test数据"
   ]
  },
  {
   "cell_type": "code",
   "execution_count": 88,
   "metadata": {
    "collapsed": true
   },
   "outputs": [],
   "source": [
    "xtest = matrix(rnorm(20*2), ncol=2)\n",
    "ytest = sample(c(-1,1), 20, rep=TRUE)\n",
    "xtest[ytest==1,] = xtest[ytest==1,] +1\n",
    "testdat = data.frame(x=xtest, y=as.factor(ytest))\n",
    "ypred = predict(bestmodel, testdat)"
   ]
  },
  {
   "cell_type": "code",
   "execution_count": 89,
   "metadata": {
    "collapsed": false
   },
   "outputs": [
    {
     "data": {
      "text/plain": [
       "       truth\n",
       "predict -1  1\n",
       "     -1 11  1\n",
       "     1   0  8"
      ]
     },
     "metadata": {},
     "output_type": "display_data"
    }
   ],
   "source": [
    "table(predict=ypred, truth=testdat$y)"
   ]
  },
  {
   "cell_type": "markdown",
   "metadata": {},
   "source": [
    "现在试试如果是maximal margin classifer，在测试数据集上会有哪些问题。首先生成没有重叠（separable）两类点："
   ]
  },
  {
   "cell_type": "code",
   "execution_count": 90,
   "metadata": {
    "collapsed": false
   },
   "outputs": [
    {
     "data": {
      "image/png": "[encoded data removed]",
      "text/plain": [
       "plot without title"
      ]
     },
     "metadata": {},
     "output_type": "display_data"
    }
   ],
   "source": [
    "x[y==1,] = x[y==1,] + 0.5 #把x2在往上移动0.5\n",
    "options(repr.plot.width=3.5, repr.plot.height=4) #改变绘图大小\n",
    "plot(x, col=(y+5)/2, pch=19)"
   ]
  },
  {
   "cell_type": "code",
   "execution_count": 91,
   "metadata": {
    "collapsed": false
   },
   "outputs": [
    {
     "data": {
      "text/plain": [
       "\n",
       "Call:\n",
       "svm(formula = y ~ ., data = dat, kernel = \"linear\", cost = 1e+05)\n",
       "\n",
       "\n",
       "Parameters:\n",
       "   SVM-Type:  C-classification \n",
       " SVM-Kernel:  linear \n",
       "       cost:  1e+05 \n",
       "      gamma:  0.5 \n",
       "\n",
       "Number of Support Vectors:  3\n",
       "\n",
       " ( 1 2 )\n",
       "\n",
       "\n",
       "Number of Classes:  2 \n",
       "\n",
       "Levels: \n",
       " -1 1\n",
       "\n",
       "\n"
      ]
     },
     "metadata": {},
     "output_type": "display_data"
    },
    {
     "data": {
      "image/png": "[encoded data removed]",
      "text/plain": [
       "Plot with title \"SVM classification plot\""
      ]
     },
     "metadata": {},
     "output_type": "display_data"
    }
   ],
   "source": [
    "dat = data.frame(x=x, y=as.factor(y))\n",
    "svmfit = svm(y~., data=dat, kernel = \"linear\", cost=1e5) # 给一个非常大的cost，保证没有margin violation\n",
    "summary(svmfit)\n",
    "options(repr.plot.width=4.5, repr.plot.height=4) #改变绘图大小\n",
    "plot(svmfit, dat)"
   ]
  },
  {
   "cell_type": "code",
   "execution_count": 92,
   "metadata": {
    "collapsed": false
   },
   "outputs": [
    {
     "data": {
      "text/plain": [
       "    truth\n",
       "pred -1  1\n",
       "  -1 11  2\n",
       "  1   0  7"
      ]
     },
     "metadata": {},
     "output_type": "display_data"
    }
   ],
   "source": [
    "ypred = predict(svmfit, testdat)\n",
    "table(pred=ypred, truth=ytest)"
   ]
  },
  {
   "cell_type": "markdown",
   "metadata": {},
   "source": [
    "试者把cost改成0.1，可以让prediction的误判减小一个。"
   ]
  },
  {
   "cell_type": "markdown",
   "metadata": {},
   "source": [
    "### Support Vector Machine\n"
   ]
  },
  {
   "cell_type": "markdown",
   "metadata": {},
   "source": [
    "仍然使用svm()拟合，但使用非线性的kernel。比如`kernel=polynomial`或者`kernel=radial`， 如果是前者，可以使用degree控制多项式的阶数，\n",
    "如果是后者，使用gammar参数控制radial base kernel。"
   ]
  },
  {
   "cell_type": "code",
   "execution_count": 93,
   "metadata": {
    "collapsed": false
   },
   "outputs": [],
   "source": [
    "set.seed(1)\n",
    "x=matrix(rnorm(200*2), ncol=2)\n",
    "options(repr.plot.width=3.5, repr.plot.height=4) #改变绘图大小"
   ]
  },
  {
   "cell_type": "markdown",
   "metadata": {},
   "source": [
    "让两类数据错开，使得分界为非线性的"
   ]
  },
  {
   "cell_type": "code",
   "execution_count": 94,
   "metadata": {
    "collapsed": false
   },
   "outputs": [
    {
     "data": {
      "image/png": "[encoded data removed]",
      "text/plain": [
       "plot without title"
      ]
     },
     "metadata": {},
     "output_type": "display_data"
    }
   ],
   "source": [
    "x[1:100, ] = x[1:100, ] + 2\n",
    "x[101:150, ] = x[101:150, ] - 2\n",
    "y = c(rep(1, 150), rep(2, 50))\n",
    "dat = data.frame(x=x, y=as.factor(y))\n",
    "plot(x, col=y)"
   ]
  },
  {
   "cell_type": "code",
   "execution_count": 95,
   "metadata": {
    "collapsed": true
   },
   "outputs": [],
   "source": [
    "train=sample(200,100)\n",
    "svmfit = svm(y~., data=dat[train,], kernel = \"radial\", gamma=1, cost=1)"
   ]
  },
  {
   "cell_type": "code",
   "execution_count": 96,
   "metadata": {
    "collapsed": false
   },
   "outputs": [
    {
     "data": {
      "image/png": "[encoded data removed]",
      "text/plain": [
       "Plot with title \"SVM classification plot\""
      ]
     },
     "metadata": {},
     "output_type": "display_data"
    }
   ],
   "source": [
    "options(repr.plot.width=5, repr.plot.height=4.5) #改变绘图大小\n",
    "plot(svmfit, dat)"
   ]
  },
  {
   "cell_type": "code",
   "execution_count": 97,
   "metadata": {
    "collapsed": false
   },
   "outputs": [
    {
     "data": {
      "text/plain": [
       "\n",
       "Call:\n",
       "svm(formula = y ~ ., data = dat[train, ], kernel = \"radial\", gamma = 1, \n",
       "    cost = 1)\n",
       "\n",
       "\n",
       "Parameters:\n",
       "   SVM-Type:  C-classification \n",
       " SVM-Kernel:  radial \n",
       "       cost:  1 \n",
       "      gamma:  1 \n",
       "\n",
       "Number of Support Vectors:  37\n",
       "\n",
       " ( 17 20 )\n",
       "\n",
       "\n",
       "Number of Classes:  2 \n",
       "\n",
       "Levels: \n",
       " 1 2\n",
       "\n",
       "\n"
      ]
     },
     "metadata": {},
     "output_type": "display_data"
    }
   ],
   "source": [
    "summary(svmfit)"
   ]
  },
  {
   "cell_type": "code",
   "execution_count": 98,
   "metadata": {
    "collapsed": false
   },
   "outputs": [
    {
     "data": {
      "text/plain": [
       "\n",
       "Parameter tuning of 'svm':\n",
       "\n",
       "- sampling method: 10-fold cross validation \n",
       "\n",
       "- best parameters:\n",
       " cost gamma\n",
       "    1     2\n",
       "\n",
       "- best performance: 0.12 \n",
       "\n",
       "- Detailed performance results:\n",
       "    cost gamma error dispersion\n",
       "1  1e-01   0.5  0.27 0.11595018\n",
       "2  1e+00   0.5  0.13 0.08232726\n",
       "3  1e+01   0.5  0.15 0.07071068\n",
       "4  1e+02   0.5  0.17 0.08232726\n",
       "5  1e+03   0.5  0.21 0.09944289\n",
       "6  1e-01   1.0  0.25 0.13540064\n",
       "7  1e+00   1.0  0.13 0.08232726\n",
       "8  1e+01   1.0  0.16 0.06992059\n",
       "9  1e+02   1.0  0.20 0.09428090\n",
       "10 1e+03   1.0  0.20 0.08164966\n",
       "11 1e-01   2.0  0.25 0.12692955\n",
       "12 1e+00   2.0  0.12 0.09189366\n",
       "13 1e+01   2.0  0.17 0.09486833\n",
       "14 1e+02   2.0  0.19 0.09944289\n",
       "15 1e+03   2.0  0.20 0.09428090\n",
       "16 1e-01   3.0  0.27 0.11595018\n",
       "17 1e+00   3.0  0.13 0.09486833\n",
       "18 1e+01   3.0  0.18 0.10327956\n",
       "19 1e+02   3.0  0.21 0.08755950\n",
       "20 1e+03   3.0  0.22 0.10327956\n",
       "21 1e-01   4.0  0.27 0.11595018\n",
       "22 1e+00   4.0  0.15 0.10801234\n",
       "23 1e+01   4.0  0.18 0.11352924\n",
       "24 1e+02   4.0  0.21 0.08755950\n",
       "25 1e+03   4.0  0.24 0.10749677\n"
      ]
     },
     "metadata": {},
     "output_type": "display_data"
    }
   ],
   "source": [
    "set.seed(1)\n",
    "tune.out = tune(svm, y~., data=dat[train,], kernel=\"radial\", ranges=list(cost=c(0.1, 1, 10, 100, 1000), \n",
    "                                                                 gamma=c(0.5, 1, 2, 3, 4)))\n",
    "summary(tune.out)"
   ]
  },
  {
   "cell_type": "code",
   "execution_count": 99,
   "metadata": {
    "collapsed": false
   },
   "outputs": [
    {
     "data": {
      "text/plain": [
       "    pred\n",
       "true  1  2\n",
       "   1 74  3\n",
       "   2  7 16"
      ]
     },
     "metadata": {},
     "output_type": "display_data"
    }
   ],
   "source": [
    "table(true=dat[-train, \"y\"], pred = predict(tune.out$best.model, newdata=dat[-train,]))"
   ]
  },
  {
   "cell_type": "markdown",
   "metadata": {},
   "source": [
    "### ROC曲线\n",
    "使用ROCR包"
   ]
  },
  {
   "cell_type": "code",
   "execution_count": 100,
   "metadata": {
    "collapsed": false
   },
   "outputs": [],
   "source": [
    "library(ROCR)\n",
    "rocplot = function(pred, truth, ...) {\n",
    "    predob = prediction(pred, truth)\n",
    "    perf = performance(predob, \"tpr\", \"fpr\")\n",
    "    plot(perf, ...)\n",
    "}"
   ]
  },
  {
   "cell_type": "code",
   "execution_count": 111,
   "metadata": {
    "collapsed": false
   },
   "outputs": [],
   "source": [
    "svmfit.opt = svm(y~., data=dat[train,], kernel=\"radial\", gamma=2, cost=1, decision.values=T)\n",
    "fitted=attributes(predict(svmfit.opt, dat[train,], decision.values=TRUE))$decision.values"
   ]
  },
  {
   "cell_type": "code",
   "execution_count": 112,
   "metadata": {
    "collapsed": false
   },
   "outputs": [
    {
     "data": {
      "image/png": "[encoded data removed]",
      "text/plain": [
       "Plot with title \"Trainning Data\""
      ]
     },
     "metadata": {},
     "output_type": "display_data"
    }
   ],
   "source": [
    "#par(mfrow=c(1,2))\n",
    "options(repr.plot.width=3, repr.plot.height=3.5) #改变绘图大小\n",
    "rocplot(fitted, dat[train, \"y\"], main=\"Trainning Data\")\n"
   ]
  },
  {
   "cell_type": "code",
   "execution_count": 118,
   "metadata": {
    "collapsed": false
   },
   "outputs": [
    {
     "data": {
      "image/png": "[encoded data removed]",
      "text/plain": [
       "plot without title"
      ]
     },
     "metadata": {},
     "output_type": "display_data"
    }
   ],
   "source": [
    "svmfit.opt2 = svm(y~., data=dat[train,], kernel=\"radial\", gamma=50, cost=1, decision.values=T)\n",
    "fitted2=attributes(predict(svmfit.opt2, dat[train,], decision.values=TRUE))$decision.values\n",
    "rocplot(fitted2, dat[train, \"y\"], col=\"red\")"
   ]
  },
  {
   "cell_type": "code",
   "execution_count": 131,
   "metadata": {
    "collapsed": false
   },
   "outputs": [
    {
     "data": {
      "text/html": [
       "<ol class=list-inline>\n",
       "\t<li>'xtrain'</li>\n",
       "\t<li>'xtest'</li>\n",
       "\t<li>'ytrain'</li>\n",
       "\t<li>'ytest'</li>\n",
       "</ol>\n"
      ],
      "text/latex": [
       "\\begin{enumerate*}\n",
       "\\item 'xtrain'\n",
       "\\item 'xtest'\n",
       "\\item 'ytrain'\n",
       "\\item 'ytest'\n",
       "\\end{enumerate*}\n"
      ],
      "text/markdown": [
       "1. 'xtrain'\n",
       "2. 'xtest'\n",
       "3. 'ytrain'\n",
       "4. 'ytest'\n",
       "\n",
       "\n"
      ],
      "text/plain": [
       "[1] \"xtrain\" \"xtest\"  \"ytrain\" \"ytest\" "
      ]
     },
     "metadata": {},
     "output_type": "display_data"
    }
   ],
   "source": [
    "library(ISLR)\n",
    "names(Khan)"
   ]
  },
  {
   "cell_type": "code",
   "execution_count": 149,
   "metadata": {
    "collapsed": false
   },
   "outputs": [
    {
     "data": {
      "text/plain": [
       "\n",
       " 1  2  3  4 \n",
       " 8 23 12 20 "
      ]
     },
     "metadata": {},
     "output_type": "display_data"
    }
   ],
   "source": [
    "table(Khan$ytrain)"
   ]
  },
  {
   "cell_type": "code",
   "execution_count": 148,
   "metadata": {
    "collapsed": false
   },
   "outputs": [
    {
     "data": {
      "text/plain": [
       "\n",
       "1 2 3 4 \n",
       "3 6 6 5 "
      ]
     },
     "metadata": {},
     "output_type": "display_data"
    }
   ],
   "source": [
    "table(Khan$ytest)"
   ]
  },
  {
   "cell_type": "code",
   "execution_count": 169,
   "metadata": {
    "collapsed": false
   },
   "outputs": [
    {
     "data": {
      "text/plain": [
       "\n",
       "Call:\n",
       "svm(formula = y ~ ., data = dat, kernel = \"linear\", cost = 10)\n",
       "\n",
       "\n",
       "Parameters:\n",
       "   SVM-Type:  C-classification \n",
       " SVM-Kernel:  linear \n",
       "       cost:  10 \n",
       "      gamma:  0.0004332756 \n",
       "\n",
       "Number of Support Vectors:  58\n",
       "\n",
       " ( 20 20 11 7 )\n",
       "\n",
       "\n",
       "Number of Classes:  4 \n",
       "\n",
       "Levels: \n",
       " 1 2 3 4\n",
       "\n",
       "\n"
      ]
     },
     "metadata": {},
     "output_type": "display_data"
    }
   ],
   "source": [
    "dat=data.frame(x=Khan$xtrain, y=as.factor(Khan$ytrain))\n",
    "out=svm(y~., data=dat, kernel = \"linear\", cost=10)\n",
    "summary(out)"
   ]
  },
  {
   "cell_type": "code",
   "execution_count": 170,
   "metadata": {
    "collapsed": false
   },
   "outputs": [
    {
     "data": {
      "text/plain": [
       "   \n",
       "     1  2  3  4\n",
       "  1  8  0  0  0\n",
       "  2  0 23  0  0\n",
       "  3  0  0 12  0\n",
       "  4  0  0  0 20"
      ]
     },
     "metadata": {},
     "output_type": "display_data"
    }
   ],
   "source": [
    "table(out$fitted, dat$y)"
   ]
  },
  {
   "cell_type": "code",
   "execution_count": 171,
   "metadata": {
    "collapsed": false
   },
   "outputs": [],
   "source": [
    "dat.test=data.frame(x=Khan$xtest, y=as.factor(Khan$ytest))"
   ]
  },
  {
   "cell_type": "code",
   "execution_count": 172,
   "metadata": {
    "collapsed": true
   },
   "outputs": [],
   "source": [
    "pred.test=predict(out, newdata=dat.test)"
   ]
  },
  {
   "cell_type": "code",
   "execution_count": 173,
   "metadata": {
    "collapsed": false
   },
   "outputs": [
    {
     "data": {
      "text/plain": [
       "   pred.test\n",
       "    1 2 3 4\n",
       "  1 3 0 0 0\n",
       "  2 0 6 0 0\n",
       "  3 0 2 4 0\n",
       "  4 0 0 0 5"
      ]
     },
     "metadata": {},
     "output_type": "display_data"
    }
   ],
   "source": [
    "table(Khan$ytest, pred.test)"
   ]
  },
  {
   "cell_type": "code",
   "execution_count": 175,
   "metadata": {
    "collapsed": false
   },
   "outputs": [
    {
     "data": {
      "text/plain": [
       "\n",
       "Parameter tuning of 'svm':\n",
       "\n",
       "- sampling method: 10-fold cross validation \n",
       "\n",
       "- best parameters:\n",
       " cost\n",
       "  0.1\n",
       "\n",
       "- best performance: 0.01428571 \n",
       "\n",
       "- Detailed performance results:\n",
       "   cost      error dispersion\n",
       "1 1e-01 0.01428571  0.0451754\n",
       "2 1e+00 0.01428571  0.0451754\n",
       "3 1e+01 0.01428571  0.0451754\n",
       "4 1e+02 0.01428571  0.0451754\n",
       "5 1e+03 0.01428571  0.0451754\n"
      ]
     },
     "metadata": {},
     "output_type": "display_data"
    }
   ],
   "source": [
    "tune.out = tune(svm, y~., data=dat, kernel=\"linear\", ranges=list(cost=c(0.1, 1, 10, 100, 1000)))\n",
    "summary(tune.out)"
   ]
  },
  {
   "cell_type": "code",
   "execution_count": null,
   "metadata": {
    "collapsed": false
   },
   "outputs": [],
   "source": []
  },
  {
   "cell_type": "code",
   "execution_count": null,
   "metadata": {
    "collapsed": true
   },
   "outputs": [],
   "source": []
  }
 ],
 "metadata": {
  "anaconda-cloud": {},
  "kernelspec": {
   "display_name": "R",
   "language": "R",
   "name": "ir"
  },
  "language_info": {
   "codemirror_mode": "r",
   "file_extension": ".r",
   "mimetype": "text/x-r-source",
   "name": "R",
   "pygments_lexer": "r",
   "version": "3.3.2"
  }
 },
 "nbformat": 4,
 "nbformat_minor": 0
}
