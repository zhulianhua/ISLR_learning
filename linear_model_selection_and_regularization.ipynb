{
 "cells": [
  {
   "cell_type": "markdown",
   "metadata": {},
   "source": [
    "## Linear Model Selection and Regularization\n",
    "### Lab1 Subset selection method\n",
    "Including the *bestsubset*, *forward* and *backward* stepwise subset selection method. "
   ]
  },
  {
   "cell_type": "code",
   "execution_count": 60,
   "metadata": {
    "collapsed": false
   },
   "outputs": [
    {
     "data": {
      "text/html": [
       "<ol class=list-inline>\n",
       "\t<li>'AtBat'</li>\n",
       "\t<li>'Hits'</li>\n",
       "\t<li>'HmRun'</li>\n",
       "\t<li>'Runs'</li>\n",
       "\t<li>'RBI'</li>\n",
       "\t<li>'Walks'</li>\n",
       "\t<li>'Years'</li>\n",
       "\t<li>'CAtBat'</li>\n",
       "\t<li>'CHits'</li>\n",
       "\t<li>'CHmRun'</li>\n",
       "\t<li>'CRuns'</li>\n",
       "\t<li>'CRBI'</li>\n",
       "\t<li>'CWalks'</li>\n",
       "\t<li>'League'</li>\n",
       "\t<li>'Division'</li>\n",
       "\t<li>'PutOuts'</li>\n",
       "\t<li>'Assists'</li>\n",
       "\t<li>'Errors'</li>\n",
       "\t<li>'Salary'</li>\n",
       "\t<li>'NewLeague'</li>\n",
       "</ol>\n"
      ],
      "text/latex": [
       "\\begin{enumerate*}\n",
       "\\item 'AtBat'\n",
       "\\item 'Hits'\n",
       "\\item 'HmRun'\n",
       "\\item 'Runs'\n",
       "\\item 'RBI'\n",
       "\\item 'Walks'\n",
       "\\item 'Years'\n",
       "\\item 'CAtBat'\n",
       "\\item 'CHits'\n",
       "\\item 'CHmRun'\n",
       "\\item 'CRuns'\n",
       "\\item 'CRBI'\n",
       "\\item 'CWalks'\n",
       "\\item 'League'\n",
       "\\item 'Division'\n",
       "\\item 'PutOuts'\n",
       "\\item 'Assists'\n",
       "\\item 'Errors'\n",
       "\\item 'Salary'\n",
       "\\item 'NewLeague'\n",
       "\\end{enumerate*}\n"
      ],
      "text/markdown": [
       "1. 'AtBat'\n",
       "2. 'Hits'\n",
       "3. 'HmRun'\n",
       "4. 'Runs'\n",
       "5. 'RBI'\n",
       "6. 'Walks'\n",
       "7. 'Years'\n",
       "8. 'CAtBat'\n",
       "9. 'CHits'\n",
       "10. 'CHmRun'\n",
       "11. 'CRuns'\n",
       "12. 'CRBI'\n",
       "13. 'CWalks'\n",
       "14. 'League'\n",
       "15. 'Division'\n",
       "16. 'PutOuts'\n",
       "17. 'Assists'\n",
       "18. 'Errors'\n",
       "19. 'Salary'\n",
       "20. 'NewLeague'\n",
       "\n",
       "\n"
      ],
      "text/plain": [
       " [1] \"AtBat\"     \"Hits\"      \"HmRun\"     \"Runs\"      \"RBI\"       \"Walks\"    \n",
       " [7] \"Years\"     \"CAtBat\"    \"CHits\"     \"CHmRun\"    \"CRuns\"     \"CRBI\"     \n",
       "[13] \"CWalks\"    \"League\"    \"Division\"  \"PutOuts\"   \"Assists\"   \"Errors\"   \n",
       "[19] \"Salary\"    \"NewLeague\""
      ]
     },
     "metadata": {},
     "output_type": "display_data"
    },
    {
     "data": {
      "text/html": [
       "<ol class=list-inline>\n",
       "\t<li>263</li>\n",
       "\t<li>20</li>\n",
       "</ol>\n"
      ],
      "text/latex": [
       "\\begin{enumerate*}\n",
       "\\item 263\n",
       "\\item 20\n",
       "\\end{enumerate*}\n"
      ],
      "text/markdown": [
       "1. 263\n",
       "2. 20\n",
       "\n",
       "\n"
      ],
      "text/plain": [
       "[1] 263  20"
      ]
     },
     "metadata": {},
     "output_type": "display_data"
    }
   ],
   "source": [
    "library (ISLR)\n",
    "names(Hitters)\n",
    "dim(Hitters)"
   ]
  },
  {
   "cell_type": "markdown",
   "metadata": {},
   "source": [
    "Firstly,  clean the data without the Salar field, we can see the number of the incomplete entries"
   ]
  },
  {
   "cell_type": "code",
   "execution_count": 61,
   "metadata": {
    "collapsed": false
   },
   "outputs": [
    {
     "data": {
      "text/html": [
       "0"
      ],
      "text/latex": [
       "0"
      ],
      "text/markdown": [
       "0"
      ],
      "text/plain": [
       "[1] 0"
      ]
     },
     "metadata": {},
     "output_type": "display_data"
    }
   ],
   "source": [
    "sum(is.na(Hitters$Salary))"
   ]
  },
  {
   "cell_type": "code",
   "execution_count": 62,
   "metadata": {
    "collapsed": false
   },
   "outputs": [
    {
     "data": {
      "text/html": [
       "<ol class=list-inline>\n",
       "\t<li>263</li>\n",
       "\t<li>20</li>\n",
       "</ol>\n"
      ],
      "text/latex": [
       "\\begin{enumerate*}\n",
       "\\item 263\n",
       "\\item 20\n",
       "\\end{enumerate*}\n"
      ],
      "text/markdown": [
       "1. 263\n",
       "2. 20\n",
       "\n",
       "\n"
      ],
      "text/plain": [
       "[1] 263  20"
      ]
     },
     "metadata": {},
     "output_type": "display_data"
    }
   ],
   "source": [
    "Hitters=na.omit(Hitters)\n",
    "dim(Hitters)"
   ]
  },
  {
   "cell_type": "markdown",
   "metadata": {},
   "source": [
    "### *bestsubset*, *forward* and *backward* stepwise subset selection \n",
    "* Use the **`regsubsets`** function provided by the **leaps** library to do subsect selection.  Use `summary` to see the overall results. "
   ]
  },
  {
   "cell_type": "code",
   "execution_count": 63,
   "metadata": {
    "collapsed": false
   },
   "outputs": [
    {
     "data": {
      "text/plain": [
       "Subset selection object\n",
       "Call: regsubsets.formula(Salary ~ ., Hitters)\n",
       "19 Variables  (and intercept)\n",
       "           Forced in Forced out\n",
       "AtBat          FALSE      FALSE\n",
       "Hits           FALSE      FALSE\n",
       "HmRun          FALSE      FALSE\n",
       "Runs           FALSE      FALSE\n",
       "RBI            FALSE      FALSE\n",
       "Walks          FALSE      FALSE\n",
       "Years          FALSE      FALSE\n",
       "CAtBat         FALSE      FALSE\n",
       "CHits          FALSE      FALSE\n",
       "CHmRun         FALSE      FALSE\n",
       "CRuns          FALSE      FALSE\n",
       "CRBI           FALSE      FALSE\n",
       "CWalks         FALSE      FALSE\n",
       "LeagueN        FALSE      FALSE\n",
       "DivisionW      FALSE      FALSE\n",
       "PutOuts        FALSE      FALSE\n",
       "Assists        FALSE      FALSE\n",
       "Errors         FALSE      FALSE\n",
       "NewLeagueN     FALSE      FALSE\n",
       "1 subsets of each size up to 8\n",
       "Selection Algorithm: exhaustive\n",
       "         AtBat Hits HmRun Runs RBI Walks Years CAtBat CHits CHmRun CRuns CRBI\n",
       "1  ( 1 ) \" \"   \" \"  \" \"   \" \"  \" \" \" \"   \" \"   \" \"    \" \"   \" \"    \" \"   \"*\" \n",
       "2  ( 1 ) \" \"   \"*\"  \" \"   \" \"  \" \" \" \"   \" \"   \" \"    \" \"   \" \"    \" \"   \"*\" \n",
       "3  ( 1 ) \" \"   \"*\"  \" \"   \" \"  \" \" \" \"   \" \"   \" \"    \" \"   \" \"    \" \"   \"*\" \n",
       "4  ( 1 ) \" \"   \"*\"  \" \"   \" \"  \" \" \" \"   \" \"   \" \"    \" \"   \" \"    \" \"   \"*\" \n",
       "5  ( 1 ) \"*\"   \"*\"  \" \"   \" \"  \" \" \" \"   \" \"   \" \"    \" \"   \" \"    \" \"   \"*\" \n",
       "6  ( 1 ) \"*\"   \"*\"  \" \"   \" \"  \" \" \"*\"   \" \"   \" \"    \" \"   \" \"    \" \"   \"*\" \n",
       "7  ( 1 ) \" \"   \"*\"  \" \"   \" \"  \" \" \"*\"   \" \"   \"*\"    \"*\"   \"*\"    \" \"   \" \" \n",
       "8  ( 1 ) \"*\"   \"*\"  \" \"   \" \"  \" \" \"*\"   \" \"   \" \"    \" \"   \"*\"    \"*\"   \" \" \n",
       "         CWalks LeagueN DivisionW PutOuts Assists Errors NewLeagueN\n",
       "1  ( 1 ) \" \"    \" \"     \" \"       \" \"     \" \"     \" \"    \" \"       \n",
       "2  ( 1 ) \" \"    \" \"     \" \"       \" \"     \" \"     \" \"    \" \"       \n",
       "3  ( 1 ) \" \"    \" \"     \" \"       \"*\"     \" \"     \" \"    \" \"       \n",
       "4  ( 1 ) \" \"    \" \"     \"*\"       \"*\"     \" \"     \" \"    \" \"       \n",
       "5  ( 1 ) \" \"    \" \"     \"*\"       \"*\"     \" \"     \" \"    \" \"       \n",
       "6  ( 1 ) \" \"    \" \"     \"*\"       \"*\"     \" \"     \" \"    \" \"       \n",
       "7  ( 1 ) \" \"    \" \"     \"*\"       \"*\"     \" \"     \" \"    \" \"       \n",
       "8  ( 1 ) \"*\"    \" \"     \"*\"       \"*\"     \" \"     \" \"    \" \"       "
      ]
     },
     "metadata": {},
     "output_type": "display_data"
    }
   ],
   "source": [
    "library(leaps)\n",
    "regfit.full = regsubsets(Salary~., Hitters)\n",
    "summary(regfit.full)"
   ]
  },
  {
   "cell_type": "markdown",
   "metadata": {},
   "source": [
    "By default, it only use a maximum of **8** variables in the model. To let to fit model using up to all of the predictors, use the `nvmax` arguments. By defautl, it does the best subset selection method, while by providing the `method=[forward|backward]` option, it can de forward/backward stepwise subset selection."
   ]
  },
  {
   "cell_type": "code",
   "execution_count": 64,
   "metadata": {
    "collapsed": false
   },
   "outputs": [],
   "source": [
    "regfit.full = regsubsets(Salary~., Hitters, nvmax=19)\n",
    "regfit.fwd = regsubsets(Salary~., Hitters, nvmax=19, method='forward')\n",
    "regfit.fwd = regsubsets(Salary~., Hitters, nvmax=19, method='backward')"
   ]
  },
  {
   "cell_type": "markdown",
   "metadata": {},
   "source": [
    "See the coefficient of a model with a specific number of predictors:"
   ]
  },
  {
   "cell_type": "code",
   "execution_count": 65,
   "metadata": {
    "collapsed": false
   },
   "outputs": [
    {
     "data": {
      "text/html": [
       "<dl class=dl-horizontal>\n",
       "\t<dt>(Intercept)</dt>\n",
       "\t\t<dd>79.4509472435319</dd>\n",
       "\t<dt>Hits</dt>\n",
       "\t\t<dd>1.28335125463328</dd>\n",
       "\t<dt>Walks</dt>\n",
       "\t\t<dd>3.22742638972714</dd>\n",
       "\t<dt>CAtBat</dt>\n",
       "\t\t<dd>-0.375235019565453</dd>\n",
       "\t<dt>CHits</dt>\n",
       "\t\t<dd>1.49570730989869</dd>\n",
       "\t<dt>CHmRun</dt>\n",
       "\t\t<dd>1.44205381889666</dd>\n",
       "\t<dt>DivisionW</dt>\n",
       "\t\t<dd>-129.986643165116</dd>\n",
       "\t<dt>PutOuts</dt>\n",
       "\t\t<dd>0.236681317525621</dd>\n",
       "</dl>\n"
      ],
      "text/latex": [
       "\\begin{description*}\n",
       "\\item[(Intercept)] 79.4509472435319\n",
       "\\item[Hits] 1.28335125463328\n",
       "\\item[Walks] 3.22742638972714\n",
       "\\item[CAtBat] -0.375235019565453\n",
       "\\item[CHits] 1.49570730989869\n",
       "\\item[CHmRun] 1.44205381889666\n",
       "\\item[DivisionW] -129.986643165116\n",
       "\\item[PutOuts] 0.236681317525621\n",
       "\\end{description*}\n"
      ],
      "text/markdown": [
       "(Intercept)\n",
       ":   79.4509472435319Hits\n",
       ":   1.28335125463328Walks\n",
       ":   3.22742638972714CAtBat\n",
       ":   -0.375235019565453CHits\n",
       ":   1.49570730989869CHmRun\n",
       ":   1.44205381889666DivisionW\n",
       ":   -129.986643165116PutOuts\n",
       ":   0.236681317525621\n",
       "\n"
      ],
      "text/plain": [
       " (Intercept)         Hits        Walks       CAtBat        CHits       CHmRun \n",
       "  79.4509472    1.2833513    3.2274264   -0.3752350    1.4957073    1.4420538 \n",
       "   DivisionW      PutOuts \n",
       "-129.9866432    0.2366813 "
      ]
     },
     "metadata": {},
     "output_type": "display_data"
    }
   ],
   "source": [
    "coef(regfit.full, 7)"
   ]
  },
  {
   "cell_type": "markdown",
   "metadata": {},
   "source": [
    "#### Choose the model with lowest test MSE using Cp, BIC and adjusted R^2\n",
    "See the RSQ, R^2, Cp, BIC, and adjust $R^2$ of the subset model from the summary data"
   ]
  },
  {
   "cell_type": "code",
   "execution_count": 66,
   "metadata": {
    "collapsed": false
   },
   "outputs": [
    {
     "data": {
      "text/html": [
       "<ol class=list-inline>\n",
       "\t<li>'which'</li>\n",
       "\t<li>'rsq'</li>\n",
       "\t<li>'rss'</li>\n",
       "\t<li>'adjr2'</li>\n",
       "\t<li>'cp'</li>\n",
       "\t<li>'bic'</li>\n",
       "\t<li>'outmat'</li>\n",
       "\t<li>'obj'</li>\n",
       "</ol>\n"
      ],
      "text/latex": [
       "\\begin{enumerate*}\n",
       "\\item 'which'\n",
       "\\item 'rsq'\n",
       "\\item 'rss'\n",
       "\\item 'adjr2'\n",
       "\\item 'cp'\n",
       "\\item 'bic'\n",
       "\\item 'outmat'\n",
       "\\item 'obj'\n",
       "\\end{enumerate*}\n"
      ],
      "text/markdown": [
       "1. 'which'\n",
       "2. 'rsq'\n",
       "3. 'rss'\n",
       "4. 'adjr2'\n",
       "5. 'cp'\n",
       "6. 'bic'\n",
       "7. 'outmat'\n",
       "8. 'obj'\n",
       "\n",
       "\n"
      ],
      "text/plain": [
       "[1] \"which\"  \"rsq\"    \"rss\"    \"adjr2\"  \"cp\"     \"bic\"    \"outmat\" \"obj\"   "
      ]
     },
     "metadata": {},
     "output_type": "display_data"
    }
   ],
   "source": [
    "reg.summary = summary(regfit.full)\n",
    "names(reg.summary)"
   ]
  },
  {
   "cell_type": "code",
   "execution_count": 67,
   "metadata": {
    "collapsed": false
   },
   "outputs": [
    {
     "data": {
      "text/html": [
       "<ol class=list-inline>\n",
       "\t<li>0.321450088667894</li>\n",
       "\t<li>0.425223746466778</li>\n",
       "\t<li>0.451429415717957</li>\n",
       "\t<li>0.475406653394787</li>\n",
       "\t<li>0.490803615963518</li>\n",
       "\t<li>0.508714557358996</li>\n",
       "\t<li>0.514122682361273</li>\n",
       "\t<li>0.528556860302574</li>\n",
       "\t<li>0.534612447792431</li>\n",
       "\t<li>0.540494950940798</li>\n",
       "\t<li>0.54261532542542</li>\n",
       "\t<li>0.543630208632163</li>\n",
       "\t<li>0.544457014231977</li>\n",
       "\t<li>0.545216356301489</li>\n",
       "\t<li>0.545469230681164</li>\n",
       "\t<li>0.54576555748528</li>\n",
       "\t<li>0.545951808076699</li>\n",
       "\t<li>0.546094522341906</li>\n",
       "\t<li>0.546115861912532</li>\n",
       "</ol>\n"
      ],
      "text/latex": [
       "\\begin{enumerate*}\n",
       "\\item 0.321450088667894\n",
       "\\item 0.425223746466778\n",
       "\\item 0.451429415717957\n",
       "\\item 0.475406653394787\n",
       "\\item 0.490803615963518\n",
       "\\item 0.508714557358996\n",
       "\\item 0.514122682361273\n",
       "\\item 0.528556860302574\n",
       "\\item 0.534612447792431\n",
       "\\item 0.540494950940798\n",
       "\\item 0.54261532542542\n",
       "\\item 0.543630208632163\n",
       "\\item 0.544457014231977\n",
       "\\item 0.545216356301489\n",
       "\\item 0.545469230681164\n",
       "\\item 0.54576555748528\n",
       "\\item 0.545951808076699\n",
       "\\item 0.546094522341906\n",
       "\\item 0.546115861912532\n",
       "\\end{enumerate*}\n"
      ],
      "text/markdown": [
       "1. 0.321450088667894\n",
       "2. 0.425223746466778\n",
       "3. 0.451429415717957\n",
       "4. 0.475406653394787\n",
       "5. 0.490803615963518\n",
       "6. 0.508714557358996\n",
       "7. 0.514122682361273\n",
       "8. 0.528556860302574\n",
       "9. 0.534612447792431\n",
       "10. 0.540494950940798\n",
       "11. 0.54261532542542\n",
       "12. 0.543630208632163\n",
       "13. 0.544457014231977\n",
       "14. 0.545216356301489\n",
       "15. 0.545469230681164\n",
       "16. 0.54576555748528\n",
       "17. 0.545951808076699\n",
       "18. 0.546094522341906\n",
       "19. 0.546115861912532\n",
       "\n",
       "\n"
      ],
      "text/plain": [
       " [1] 0.3214501 0.4252237 0.4514294 0.4754067 0.4908036 0.5087146 0.5141227\n",
       " [8] 0.5285569 0.5346124 0.5404950 0.5426153 0.5436302 0.5444570 0.5452164\n",
       "[15] 0.5454692 0.5457656 0.5459518 0.5460945 0.5461159"
      ]
     },
     "metadata": {},
     "output_type": "display_data"
    }
   ],
   "source": [
    "reg.summary$rsq"
   ]
  },
  {
   "cell_type": "code",
   "execution_count": 68,
   "metadata": {
    "collapsed": false
   },
   "outputs": [
    {
     "data": {
      "text/html": [
       "<ol class=list-inline>\n",
       "\t<li>0.318850280578499</li>\n",
       "\t<li>0.420802390670369</li>\n",
       "\t<li>0.445075316286119</li>\n",
       "\t<li>0.467273423214861</li>\n",
       "\t<li>0.480897071527011</li>\n",
       "\t<li>0.497200054797098</li>\n",
       "\t<li>0.500784873641778</li>\n",
       "\t<li>0.513708257477458</li>\n",
       "\t<li>0.51805715937398</li>\n",
       "\t<li>0.522260623597179</li>\n",
       "\t<li>0.522570578730917</li>\n",
       "\t<li>0.521724458646507</li>\n",
       "\t<li>0.5206736454971</li>\n",
       "\t<li>0.519543086092702</li>\n",
       "\t<li>0.517866147524149</li>\n",
       "\t<li>0.516221853907086</li>\n",
       "\t<li>0.514446423331</li>\n",
       "\t<li>0.512609692022866</li>\n",
       "\t<li>0.510626978687586</li>\n",
       "</ol>\n"
      ],
      "text/latex": [
       "\\begin{enumerate*}\n",
       "\\item 0.318850280578499\n",
       "\\item 0.420802390670369\n",
       "\\item 0.445075316286119\n",
       "\\item 0.467273423214861\n",
       "\\item 0.480897071527011\n",
       "\\item 0.497200054797098\n",
       "\\item 0.500784873641778\n",
       "\\item 0.513708257477458\n",
       "\\item 0.51805715937398\n",
       "\\item 0.522260623597179\n",
       "\\item 0.522570578730917\n",
       "\\item 0.521724458646507\n",
       "\\item 0.5206736454971\n",
       "\\item 0.519543086092702\n",
       "\\item 0.517866147524149\n",
       "\\item 0.516221853907086\n",
       "\\item 0.514446423331\n",
       "\\item 0.512609692022866\n",
       "\\item 0.510626978687586\n",
       "\\end{enumerate*}\n"
      ],
      "text/markdown": [
       "1. 0.318850280578499\n",
       "2. 0.420802390670369\n",
       "3. 0.445075316286119\n",
       "4. 0.467273423214861\n",
       "5. 0.480897071527011\n",
       "6. 0.497200054797098\n",
       "7. 0.500784873641778\n",
       "8. 0.513708257477458\n",
       "9. 0.51805715937398\n",
       "10. 0.522260623597179\n",
       "11. 0.522570578730917\n",
       "12. 0.521724458646507\n",
       "13. 0.5206736454971\n",
       "14. 0.519543086092702\n",
       "15. 0.517866147524149\n",
       "16. 0.516221853907086\n",
       "17. 0.514446423331\n",
       "18. 0.512609692022866\n",
       "19. 0.510626978687586\n",
       "\n",
       "\n"
      ],
      "text/plain": [
       " [1] 0.3188503 0.4208024 0.4450753 0.4672734 0.4808971 0.4972001 0.5007849\n",
       " [8] 0.5137083 0.5180572 0.5222606 0.5225706 0.5217245 0.5206736 0.5195431\n",
       "[15] 0.5178661 0.5162219 0.5144464 0.5126097 0.5106270"
      ]
     },
     "metadata": {},
     "output_type": "display_data"
    }
   ],
   "source": [
    "reg.summary$adjr2"
   ]
  },
  {
   "cell_type": "markdown",
   "metadata": {},
   "source": [
    "Find the model with the highest adjusted $R^2$"
   ]
  },
  {
   "cell_type": "code",
   "execution_count": 69,
   "metadata": {
    "collapsed": false
   },
   "outputs": [
    {
     "data": {
      "text/html": [
       "11"
      ],
      "text/latex": [
       "11"
      ],
      "text/markdown": [
       "11"
      ],
      "text/plain": [
       "[1] 11"
      ]
     },
     "metadata": {},
     "output_type": "display_data"
    }
   ],
   "source": [
    "which.max(reg.summary$adjr2)"
   ]
  },
  {
   "cell_type": "code",
   "execution_count": 70,
   "metadata": {
    "collapsed": false
   },
   "outputs": [
    {
     "data": {
      "image/png": "[encoded data removed]",
      "text/plain": [
       "plot without title"
      ]
     },
     "metadata": {},
     "output_type": "display_data"
    }
   ],
   "source": [
    "plot(reg.summary$adjr2 ,xlab=\"Number of Variables \",ylab=\"ADJ R^2\", type=\"l\")\n",
    "points(11, reg.summary$adjr2[11], col=\"red\",cex=2,pch=20)"
   ]
  },
  {
   "cell_type": "markdown",
   "metadata": {},
   "source": [
    "#### Choose the model with lowest test MSE using  validation set and cross-validation approach\n",
    "**NOTE**: Should use only the training observation to perform all aspects of model fitting including variable selection.\n",
    "\n",
    "First, we see the **validation set approach**"
   ]
  },
  {
   "cell_type": "code",
   "execution_count": 71,
   "metadata": {
    "collapsed": false
   },
   "outputs": [],
   "source": [
    "set.seed(1)\n",
    "train = sample(c(TRUE, FALSE), nrow(Hitters), rep=TRUE)\n",
    "test = (!train)\n",
    "regfit.best = regsubsets(Salary~., data=Hitters[train,], nvmax=19)"
   ]
  },
  {
   "cell_type": "markdown",
   "metadata": {},
   "source": [
    "Now, we build a test data maxtrix **X** using **model.matrix**"
   ]
  },
  {
   "cell_type": "code",
   "execution_count": 72,
   "metadata": {
    "collapsed": false
   },
   "outputs": [],
   "source": [
    "test.mat = model.matrix(Salary~., data=Hitters[test,])"
   ]
  },
  {
   "cell_type": "markdown",
   "metadata": {},
   "source": [
    "Now, compute the test MSE for best models of different size(num. of variables). Because there is no `preddict` function for `regsubsets` results, we have to calculate the simulated response manually"
   ]
  },
  {
   "cell_type": "code",
   "execution_count": 73,
   "metadata": {
    "collapsed": false
   },
   "outputs": [],
   "source": [
    "val.errors=rep(NA, 19)\n",
    "for (i in 1:19){\n",
    "    coefi = coef(regfit.best, id=i)\n",
    "    pred = test.mat[, names(coefi)]%*%coefi\n",
    "    val.errors[i] = mean((Hitters$Salary[test] - pred)^2)\n",
    "}"
   ]
  },
  {
   "cell_type": "code",
   "execution_count": 74,
   "metadata": {
    "collapsed": false
   },
   "outputs": [
    {
     "data": {
      "text/html": [
       "<ol class=list-inline>\n",
       "\t<li>220968.010570781</li>\n",
       "\t<li>169157.080938694</li>\n",
       "\t<li>178518.155945132</li>\n",
       "\t<li>163426.079195481</li>\n",
       "\t<li>168418.096758255</li>\n",
       "\t<li>171270.594721366</li>\n",
       "\t<li>162377.082699745</li>\n",
       "\t<li>157909.280553932</li>\n",
       "\t<li>154055.716825013</li>\n",
       "\t<li>148162.052539399</li>\n",
       "\t<li>151156.401317955</li>\n",
       "\t<li>151742.451908185</li>\n",
       "\t<li>152214.450874715</li>\n",
       "\t<li>157358.654080678</li>\n",
       "\t<li>158541.407297311</li>\n",
       "\t<li>158743.3209425</li>\n",
       "\t<li>159972.673927589</li>\n",
       "\t<li>159859.793366072</li>\n",
       "\t<li>160105.640513861</li>\n",
       "</ol>\n"
      ],
      "text/latex": [
       "\\begin{enumerate*}\n",
       "\\item 220968.010570781\n",
       "\\item 169157.080938694\n",
       "\\item 178518.155945132\n",
       "\\item 163426.079195481\n",
       "\\item 168418.096758255\n",
       "\\item 171270.594721366\n",
       "\\item 162377.082699745\n",
       "\\item 157909.280553932\n",
       "\\item 154055.716825013\n",
       "\\item 148162.052539399\n",
       "\\item 151156.401317955\n",
       "\\item 151742.451908185\n",
       "\\item 152214.450874715\n",
       "\\item 157358.654080678\n",
       "\\item 158541.407297311\n",
       "\\item 158743.3209425\n",
       "\\item 159972.673927589\n",
       "\\item 159859.793366072\n",
       "\\item 160105.640513861\n",
       "\\end{enumerate*}\n"
      ],
      "text/markdown": [
       "1. 220968.010570781\n",
       "2. 169157.080938694\n",
       "3. 178518.155945132\n",
       "4. 163426.079195481\n",
       "5. 168418.096758255\n",
       "6. 171270.594721366\n",
       "7. 162377.082699745\n",
       "8. 157909.280553932\n",
       "9. 154055.716825013\n",
       "10. 148162.052539399\n",
       "11. 151156.401317955\n",
       "12. 151742.451908185\n",
       "13. 152214.450874715\n",
       "14. 157358.654080678\n",
       "15. 158541.407297311\n",
       "16. 158743.3209425\n",
       "17. 159972.673927589\n",
       "18. 159859.793366072\n",
       "19. 160105.640513861\n",
       "\n",
       "\n"
      ],
      "text/plain": [
       " [1] 220968.0 169157.1 178518.2 163426.1 168418.1 171270.6 162377.1 157909.3\n",
       " [9] 154055.7 148162.1 151156.4 151742.5 152214.5 157358.7 158541.4 158743.3\n",
       "[17] 159972.7 159859.8 160105.6"
      ]
     },
     "metadata": {},
     "output_type": "display_data"
    }
   ],
   "source": [
    "val.errors"
   ]
  },
  {
   "cell_type": "code",
   "execution_count": 75,
   "metadata": {
    "collapsed": false
   },
   "outputs": [
    {
     "data": {
      "image/png": "[encoded data removed]",
      "text/plain": [
       "plot without title"
      ]
     },
     "metadata": {},
     "output_type": "display_data"
    }
   ],
   "source": [
    "plot(val.errors, type='b')"
   ]
  },
  {
   "cell_type": "code",
   "execution_count": 76,
   "metadata": {
    "collapsed": false
   },
   "outputs": [
    {
     "data": {
      "text/html": [
       "10"
      ],
      "text/latex": [
       "10"
      ],
      "text/markdown": [
       "10"
      ],
      "text/plain": [
       "[1] 10"
      ]
     },
     "metadata": {},
     "output_type": "display_data"
    }
   ],
   "source": [
    "which.min(val.errors)"
   ]
  },
  {
   "cell_type": "code",
   "execution_count": 77,
   "metadata": {
    "collapsed": false
   },
   "outputs": [
    {
     "data": {
      "text/html": [
       "<dl class=dl-horizontal>\n",
       "\t<dt>(Intercept)</dt>\n",
       "\t\t<dd>-80.2751498545584</dd>\n",
       "\t<dt>AtBat</dt>\n",
       "\t\t<dd>-1.46838155352597</dd>\n",
       "\t<dt>Hits</dt>\n",
       "\t\t<dd>7.16253138932867</dd>\n",
       "\t<dt>Walks</dt>\n",
       "\t\t<dd>3.64303449365111</dd>\n",
       "\t<dt>CAtBat</dt>\n",
       "\t\t<dd>-0.185569803428967</dd>\n",
       "\t<dt>CHits</dt>\n",
       "\t\t<dd>1.10532384927797</dd>\n",
       "\t<dt>CHmRun</dt>\n",
       "\t\t<dd>1.38448634401015</dd>\n",
       "\t<dt>CWalks</dt>\n",
       "\t\t<dd>-0.74831695417675</dd>\n",
       "\t<dt>LeagueN</dt>\n",
       "\t\t<dd>84.5576102976496</dd>\n",
       "\t<dt>DivisionW</dt>\n",
       "\t\t<dd>-53.0289658320235</dd>\n",
       "\t<dt>PutOuts</dt>\n",
       "\t\t<dd>0.238166218963617</dd>\n",
       "</dl>\n"
      ],
      "text/latex": [
       "\\begin{description*}\n",
       "\\item[(Intercept)] -80.2751498545584\n",
       "\\item[AtBat] -1.46838155352597\n",
       "\\item[Hits] 7.16253138932867\n",
       "\\item[Walks] 3.64303449365111\n",
       "\\item[CAtBat] -0.185569803428967\n",
       "\\item[CHits] 1.10532384927797\n",
       "\\item[CHmRun] 1.38448634401015\n",
       "\\item[CWalks] -0.74831695417675\n",
       "\\item[LeagueN] 84.5576102976496\n",
       "\\item[DivisionW] -53.0289658320235\n",
       "\\item[PutOuts] 0.238166218963617\n",
       "\\end{description*}\n"
      ],
      "text/markdown": [
       "(Intercept)\n",
       ":   -80.2751498545584AtBat\n",
       ":   -1.46838155352597Hits\n",
       ":   7.16253138932867Walks\n",
       ":   3.64303449365111CAtBat\n",
       ":   -0.185569803428967CHits\n",
       ":   1.10532384927797CHmRun\n",
       ":   1.38448634401015CWalks\n",
       ":   -0.74831695417675LeagueN\n",
       ":   84.5576102976496DivisionW\n",
       ":   -53.0289658320235PutOuts\n",
       ":   0.238166218963617\n",
       "\n"
      ],
      "text/plain": [
       "(Intercept)       AtBat        Hits       Walks      CAtBat       CHits \n",
       "-80.2751499  -1.4683816   7.1625314   3.6430345  -0.1855698   1.1053238 \n",
       "     CHmRun      CWalks     LeagueN   DivisionW     PutOuts \n",
       "  1.3844863  -0.7483170  84.5576103 -53.0289658   0.2381662 "
      ]
     },
     "metadata": {},
     "output_type": "display_data"
    }
   ],
   "source": [
    "coef(regfit.best, 10)"
   ]
  },
  {
   "cell_type": "markdown",
   "metadata": {},
   "source": [
    "Note: we can write our own function to do the minic the `predict`:"
   ]
  },
  {
   "cell_type": "code",
   "execution_count": 78,
   "metadata": {
    "collapsed": true
   },
   "outputs": [],
   "source": [
    "predict.regsubsets  = function(object, newdata, id, ...){\n",
    "    form = as.formula(object$call[[2]])\n",
    "    mat = model.matrix(form, newdata)\n",
    "    coefi = coef(object, id=id)\n",
    "    xvars = names(coefi)\n",
    "    mat[, xvars]%*%coefi\n",
    "}"
   ]
  },
  {
   "cell_type": "markdown",
   "metadata": {},
   "source": [
    "Now we can test our predict function"
   ]
  },
  {
   "cell_type": "code",
   "execution_count": 79,
   "metadata": {
    "collapsed": false
   },
   "outputs": [
    {
     "data": {
      "text/html": [
       "<table>\n",
       "<tbody>\n",
       "\t<tr><td>379.6462</td></tr>\n",
       "</tbody>\n",
       "</table>\n"
      ],
      "text/latex": [
       "\\begin{tabular}{l}\n",
       "\t 379.6462\\\\\n",
       "\\end{tabular}\n"
      ],
      "text/markdown": [
       "\n",
       "| 379.6462 | \n",
       "\n",
       "\n"
      ],
      "text/plain": [
       "     [,1]    \n",
       "[1,] 379.6462"
      ]
     },
     "metadata": {},
     "output_type": "display_data"
    }
   ],
   "source": [
    "predict.regsubsets(regfit.best, Hitters[1,], 1 )"
   ]
  },
  {
   "cell_type": "markdown",
   "metadata": {},
   "source": [
    "Now, we use **cross-validation** approach to choose the best model from those of different sizes:"
   ]
  },
  {
   "cell_type": "markdown",
   "metadata": {},
   "source": [
    "We first assign eath observation into 10 folds randomly (i.e. k = 10 in c.v.)."
   ]
  },
  {
   "cell_type": "code",
   "execution_count": 80,
   "metadata": {
    "collapsed": true
   },
   "outputs": [],
   "source": [
    "k = 10\n",
    "set.seed(1)\n",
    "folds = sample(1:k, nrow(Hitters), replace=TRUE)\n",
    "cv.errors = matrix(NA, k, 19, dimnames=list(NULL, paste(1:19)))"
   ]
  },
  {
   "cell_type": "code",
   "execution_count": 81,
   "metadata": {
    "collapsed": false
   },
   "outputs": [
    {
     "data": {
      "text/html": [
       "<table>\n",
       "<thead><tr><th scope=col>1</th><th scope=col>2</th><th scope=col>3</th><th scope=col>4</th><th scope=col>5</th><th scope=col>6</th><th scope=col>7</th><th scope=col>8</th><th scope=col>9</th><th scope=col>10</th><th scope=col>11</th><th scope=col>12</th><th scope=col>13</th><th scope=col>14</th><th scope=col>15</th><th scope=col>16</th><th scope=col>17</th><th scope=col>18</th><th scope=col>19</th></tr></thead>\n",
       "<tbody>\n",
       "\t<tr><td>NA</td><td>NA</td><td>NA</td><td>NA</td><td>NA</td><td>NA</td><td>NA</td><td>NA</td><td>NA</td><td>NA</td><td>NA</td><td>NA</td><td>NA</td><td>NA</td><td>NA</td><td>NA</td><td>NA</td><td>NA</td><td>NA</td></tr>\n",
       "\t<tr><td>NA</td><td>NA</td><td>NA</td><td>NA</td><td>NA</td><td>NA</td><td>NA</td><td>NA</td><td>NA</td><td>NA</td><td>NA</td><td>NA</td><td>NA</td><td>NA</td><td>NA</td><td>NA</td><td>NA</td><td>NA</td><td>NA</td></tr>\n",
       "\t<tr><td>NA</td><td>NA</td><td>NA</td><td>NA</td><td>NA</td><td>NA</td><td>NA</td><td>NA</td><td>NA</td><td>NA</td><td>NA</td><td>NA</td><td>NA</td><td>NA</td><td>NA</td><td>NA</td><td>NA</td><td>NA</td><td>NA</td></tr>\n",
       "\t<tr><td>NA</td><td>NA</td><td>NA</td><td>NA</td><td>NA</td><td>NA</td><td>NA</td><td>NA</td><td>NA</td><td>NA</td><td>NA</td><td>NA</td><td>NA</td><td>NA</td><td>NA</td><td>NA</td><td>NA</td><td>NA</td><td>NA</td></tr>\n",
       "\t<tr><td>NA</td><td>NA</td><td>NA</td><td>NA</td><td>NA</td><td>NA</td><td>NA</td><td>NA</td><td>NA</td><td>NA</td><td>NA</td><td>NA</td><td>NA</td><td>NA</td><td>NA</td><td>NA</td><td>NA</td><td>NA</td><td>NA</td></tr>\n",
       "\t<tr><td>NA</td><td>NA</td><td>NA</td><td>NA</td><td>NA</td><td>NA</td><td>NA</td><td>NA</td><td>NA</td><td>NA</td><td>NA</td><td>NA</td><td>NA</td><td>NA</td><td>NA</td><td>NA</td><td>NA</td><td>NA</td><td>NA</td></tr>\n",
       "\t<tr><td>NA</td><td>NA</td><td>NA</td><td>NA</td><td>NA</td><td>NA</td><td>NA</td><td>NA</td><td>NA</td><td>NA</td><td>NA</td><td>NA</td><td>NA</td><td>NA</td><td>NA</td><td>NA</td><td>NA</td><td>NA</td><td>NA</td></tr>\n",
       "\t<tr><td>NA</td><td>NA</td><td>NA</td><td>NA</td><td>NA</td><td>NA</td><td>NA</td><td>NA</td><td>NA</td><td>NA</td><td>NA</td><td>NA</td><td>NA</td><td>NA</td><td>NA</td><td>NA</td><td>NA</td><td>NA</td><td>NA</td></tr>\n",
       "\t<tr><td>NA</td><td>NA</td><td>NA</td><td>NA</td><td>NA</td><td>NA</td><td>NA</td><td>NA</td><td>NA</td><td>NA</td><td>NA</td><td>NA</td><td>NA</td><td>NA</td><td>NA</td><td>NA</td><td>NA</td><td>NA</td><td>NA</td></tr>\n",
       "\t<tr><td>NA</td><td>NA</td><td>NA</td><td>NA</td><td>NA</td><td>NA</td><td>NA</td><td>NA</td><td>NA</td><td>NA</td><td>NA</td><td>NA</td><td>NA</td><td>NA</td><td>NA</td><td>NA</td><td>NA</td><td>NA</td><td>NA</td></tr>\n",
       "</tbody>\n",
       "</table>\n"
      ],
      "text/latex": [
       "\\begin{tabular}{lllllllllllllllllll}\n",
       " 1 & 2 & 3 & 4 & 5 & 6 & 7 & 8 & 9 & 10 & 11 & 12 & 13 & 14 & 15 & 16 & 17 & 18 & 19\\\\\n",
       "\\hline\n",
       "\t NA & NA & NA & NA & NA & NA & NA & NA & NA & NA & NA & NA & NA & NA & NA & NA & NA & NA & NA\\\\\n",
       "\t NA & NA & NA & NA & NA & NA & NA & NA & NA & NA & NA & NA & NA & NA & NA & NA & NA & NA & NA\\\\\n",
       "\t NA & NA & NA & NA & NA & NA & NA & NA & NA & NA & NA & NA & NA & NA & NA & NA & NA & NA & NA\\\\\n",
       "\t NA & NA & NA & NA & NA & NA & NA & NA & NA & NA & NA & NA & NA & NA & NA & NA & NA & NA & NA\\\\\n",
       "\t NA & NA & NA & NA & NA & NA & NA & NA & NA & NA & NA & NA & NA & NA & NA & NA & NA & NA & NA\\\\\n",
       "\t NA & NA & NA & NA & NA & NA & NA & NA & NA & NA & NA & NA & NA & NA & NA & NA & NA & NA & NA\\\\\n",
       "\t NA & NA & NA & NA & NA & NA & NA & NA & NA & NA & NA & NA & NA & NA & NA & NA & NA & NA & NA\\\\\n",
       "\t NA & NA & NA & NA & NA & NA & NA & NA & NA & NA & NA & NA & NA & NA & NA & NA & NA & NA & NA\\\\\n",
       "\t NA & NA & NA & NA & NA & NA & NA & NA & NA & NA & NA & NA & NA & NA & NA & NA & NA & NA & NA\\\\\n",
       "\t NA & NA & NA & NA & NA & NA & NA & NA & NA & NA & NA & NA & NA & NA & NA & NA & NA & NA & NA\\\\\n",
       "\\end{tabular}\n"
      ],
      "text/markdown": [
       "\n",
       "1 | 2 | 3 | 4 | 5 | 6 | 7 | 8 | 9 | 10 | 11 | 12 | 13 | 14 | 15 | 16 | 17 | 18 | 19 | \n",
       "|---|---|---|---|---|---|---|---|---|---|\n",
       "| NA | NA | NA | NA | NA | NA | NA | NA | NA | NA | NA | NA | NA | NA | NA | NA | NA | NA | NA | \n",
       "| NA | NA | NA | NA | NA | NA | NA | NA | NA | NA | NA | NA | NA | NA | NA | NA | NA | NA | NA | \n",
       "| NA | NA | NA | NA | NA | NA | NA | NA | NA | NA | NA | NA | NA | NA | NA | NA | NA | NA | NA | \n",
       "| NA | NA | NA | NA | NA | NA | NA | NA | NA | NA | NA | NA | NA | NA | NA | NA | NA | NA | NA | \n",
       "| NA | NA | NA | NA | NA | NA | NA | NA | NA | NA | NA | NA | NA | NA | NA | NA | NA | NA | NA | \n",
       "| NA | NA | NA | NA | NA | NA | NA | NA | NA | NA | NA | NA | NA | NA | NA | NA | NA | NA | NA | \n",
       "| NA | NA | NA | NA | NA | NA | NA | NA | NA | NA | NA | NA | NA | NA | NA | NA | NA | NA | NA | \n",
       "| NA | NA | NA | NA | NA | NA | NA | NA | NA | NA | NA | NA | NA | NA | NA | NA | NA | NA | NA | \n",
       "| NA | NA | NA | NA | NA | NA | NA | NA | NA | NA | NA | NA | NA | NA | NA | NA | NA | NA | NA | \n",
       "| NA | NA | NA | NA | NA | NA | NA | NA | NA | NA | NA | NA | NA | NA | NA | NA | NA | NA | NA | \n",
       "\n",
       "\n"
      ],
      "text/plain": [
       "      1  2  3  4  5  6  7  8  9  10 11 12 13 14 15 16 17 18 19\n",
       " [1,] NA NA NA NA NA NA NA NA NA NA NA NA NA NA NA NA NA NA NA\n",
       " [2,] NA NA NA NA NA NA NA NA NA NA NA NA NA NA NA NA NA NA NA\n",
       " [3,] NA NA NA NA NA NA NA NA NA NA NA NA NA NA NA NA NA NA NA\n",
       " [4,] NA NA NA NA NA NA NA NA NA NA NA NA NA NA NA NA NA NA NA\n",
       " [5,] NA NA NA NA NA NA NA NA NA NA NA NA NA NA NA NA NA NA NA\n",
       " [6,] NA NA NA NA NA NA NA NA NA NA NA NA NA NA NA NA NA NA NA\n",
       " [7,] NA NA NA NA NA NA NA NA NA NA NA NA NA NA NA NA NA NA NA\n",
       " [8,] NA NA NA NA NA NA NA NA NA NA NA NA NA NA NA NA NA NA NA\n",
       " [9,] NA NA NA NA NA NA NA NA NA NA NA NA NA NA NA NA NA NA NA\n",
       "[10,] NA NA NA NA NA NA NA NA NA NA NA NA NA NA NA NA NA NA NA"
      ]
     },
     "metadata": {},
     "output_type": "display_data"
    }
   ],
   "source": [
    "cv.errors"
   ]
  },
  {
   "cell_type": "code",
   "execution_count": 82,
   "metadata": {
    "collapsed": false
   },
   "outputs": [
    {
     "data": {
      "text/html": [
       "<ol class=list-inline>\n",
       "\t<li>'1'</li>\n",
       "\t<li>'2'</li>\n",
       "\t<li>'3'</li>\n",
       "\t<li>'4'</li>\n",
       "\t<li>'5'</li>\n",
       "\t<li>'6'</li>\n",
       "\t<li>'7'</li>\n",
       "\t<li>'8'</li>\n",
       "\t<li>'9'</li>\n",
       "\t<li>'10'</li>\n",
       "\t<li>'11'</li>\n",
       "\t<li>'12'</li>\n",
       "\t<li>'13'</li>\n",
       "\t<li>'14'</li>\n",
       "\t<li>'15'</li>\n",
       "\t<li>'16'</li>\n",
       "\t<li>'17'</li>\n",
       "\t<li>'18'</li>\n",
       "\t<li>'19'</li>\n",
       "</ol>\n"
      ],
      "text/latex": [
       "\\begin{enumerate*}\n",
       "\\item '1'\n",
       "\\item '2'\n",
       "\\item '3'\n",
       "\\item '4'\n",
       "\\item '5'\n",
       "\\item '6'\n",
       "\\item '7'\n",
       "\\item '8'\n",
       "\\item '9'\n",
       "\\item '10'\n",
       "\\item '11'\n",
       "\\item '12'\n",
       "\\item '13'\n",
       "\\item '14'\n",
       "\\item '15'\n",
       "\\item '16'\n",
       "\\item '17'\n",
       "\\item '18'\n",
       "\\item '19'\n",
       "\\end{enumerate*}\n"
      ],
      "text/markdown": [
       "1. '1'\n",
       "2. '2'\n",
       "3. '3'\n",
       "4. '4'\n",
       "5. '5'\n",
       "6. '6'\n",
       "7. '7'\n",
       "8. '8'\n",
       "9. '9'\n",
       "10. '10'\n",
       "11. '11'\n",
       "12. '12'\n",
       "13. '13'\n",
       "14. '14'\n",
       "15. '15'\n",
       "16. '16'\n",
       "17. '17'\n",
       "18. '18'\n",
       "19. '19'\n",
       "\n",
       "\n"
      ],
      "text/plain": [
       " [1] \"1\"  \"2\"  \"3\"  \"4\"  \"5\"  \"6\"  \"7\"  \"8\"  \"9\"  \"10\" \"11\" \"12\" \"13\" \"14\" \"15\"\n",
       "[16] \"16\" \"17\" \"18\" \"19\""
      ]
     },
     "metadata": {},
     "output_type": "display_data"
    }
   ],
   "source": [
    "paste(1:19)"
   ]
  },
  {
   "cell_type": "code",
   "execution_count": 83,
   "metadata": {
    "collapsed": false
   },
   "outputs": [],
   "source": [
    "for (j in 1:k){\n",
    "    best.fit=regsubsets(Salary~., data=Hitters[folds!=j,], nvmax=19)\n",
    "    for (i in 1:19){\n",
    "        pred = predict(best.fit, Hitters[folds==j,], id=i)\n",
    "        cv.errors[j,i] = mean((Hitters$Salary[folds==j] - pred)^2)\n",
    "    }\n",
    "}"
   ]
  },
  {
   "cell_type": "code",
   "execution_count": 84,
   "metadata": {
    "collapsed": false
   },
   "outputs": [
    {
     "data": {
      "text/html": [
       "<table>\n",
       "<thead><tr><th scope=col>1</th><th scope=col>2</th><th scope=col>3</th><th scope=col>4</th><th scope=col>5</th><th scope=col>6</th><th scope=col>7</th><th scope=col>8</th><th scope=col>9</th><th scope=col>10</th><th scope=col>11</th><th scope=col>12</th><th scope=col>13</th><th scope=col>14</th><th scope=col>15</th><th scope=col>16</th><th scope=col>17</th><th scope=col>18</th><th scope=col>19</th></tr></thead>\n",
       "<tbody>\n",
       "\t<tr><td>187479.08</td><td>141652.61</td><td>163000.36</td><td>169584.40</td><td>141745.39</td><td>151086.36</td><td>193584.17</td><td>144806.44</td><td>159388.10</td><td>138585.25</td><td>140047.07</td><td>158928.92</td><td>161322.76</td><td>155152.28</td><td>153394.07</td><td>153336.85</td><td>153069.00</td><td>152838.76</td><td>153197.11</td></tr>\n",
       "\t<tr><td> 96953.41</td><td> 63783.33</td><td> 85037.65</td><td> 76643.17</td><td> 64943.58</td><td> 56414.96</td><td> 63233.49</td><td> 63054.88</td><td> 60503.10</td><td> 60213.51</td><td> 58210.21</td><td> 57939.91</td><td> 59975.07</td><td> 58629.57</td><td> 58961.90</td><td> 58757.55</td><td> 58570.71</td><td> 58890.03</td><td> 58949.25</td></tr>\n",
       "\t<tr><td>165455.17</td><td>167628.28</td><td>166950.43</td><td>152446.17</td><td>156473.24</td><td>135551.12</td><td>137609.30</td><td>146028.36</td><td>131999.41</td><td>122733.87</td><td>127967.69</td><td>129804.19</td><td>133746.86</td><td>135748.87</td><td>137937.17</td><td>140321.51</td><td>141302.29</td><td>140985.80</td><td>140392.48</td></tr>\n",
       "\t<tr><td>124448.91</td><td>110672.67</td><td>107993.98</td><td>113989.64</td><td>108523.54</td><td> 92925.54</td><td>104522.24</td><td> 96227.18</td><td> 93363.36</td><td> 96084.53</td><td> 99397.85</td><td>100151.19</td><td>103073.96</td><td>106622.46</td><td>106211.72</td><td>107797.54</td><td>106288.67</td><td>106913.18</td><td>106919.66</td></tr>\n",
       "\t<tr><td>136168.29</td><td> 79595.09</td><td> 86881.88</td><td> 94404.06</td><td> 89153.27</td><td> 83111.09</td><td> 86412.18</td><td> 77319.95</td><td> 80439.75</td><td> 75912.55</td><td> 81680.13</td><td> 83861.19</td><td> 85111.01</td><td> 84901.63</td><td> 82829.44</td><td> 84923.57</td><td> 83994.95</td><td> 84184.48</td><td> 84284.62</td></tr>\n",
       "\t<tr><td>171886.20</td><td>120892.96</td><td>120879.58</td><td>106957.31</td><td>100767.73</td><td> 89494.38</td><td> 94093.52</td><td> 86104.48</td><td> 84884.10</td><td> 80575.26</td><td> 80155.27</td><td> 75768.73</td><td> 76927.44</td><td> 76529.74</td><td> 78219.76</td><td> 78256.23</td><td> 77973.40</td><td> 79151.81</td><td> 78988.92</td></tr>\n",
       "\t<tr><td> 56375.90</td><td> 74835.19</td><td> 72726.96</td><td> 59493.96</td><td> 64024.85</td><td> 59914.20</td><td> 62942.94</td><td> 60371.85</td><td> 61436.77</td><td> 62082.63</td><td> 66155.09</td><td> 65960.47</td><td> 66310.58</td><td> 70079.10</td><td> 69553.50</td><td> 68242.10</td><td> 68114.27</td><td> 67961.32</td><td> 67943.62</td></tr>\n",
       "\t<tr><td> 93744.51</td><td> 85579.47</td><td> 98227.05</td><td>109847.35</td><td>100709.25</td><td> 88934.97</td><td> 90779.58</td><td> 77151.69</td><td> 75016.23</td><td> 71782.40</td><td> 76971.60</td><td> 77696.55</td><td> 78460.91</td><td> 81107.16</td><td> 82431.25</td><td> 82213.66</td><td> 81958.75</td><td> 81893.97</td><td> 81848.89</td></tr>\n",
       "\t<tr><td>421669.62</td><td>454728.90</td><td>437024.28</td><td>419721.20</td><td>427986.39</td><td>401473.33</td><td>396247.58</td><td>381851.15</td><td>369574.22</td><td>376137.45</td><td>373544.77</td><td>382668.48</td><td>375284.60</td><td>376527.06</td><td>374706.25</td><td>372917.91</td><td>371622.53</td><td>373745.20</td><td>372365.67</td></tr>\n",
       "\t<tr><td>146753.76</td><td>102599.22</td><td>192447.51</td><td>208506.12</td><td>214085.78</td><td>224120.38</td><td>214037.26</td><td>169160.95</td><td>177991.11</td><td>169239.17</td><td>147408.48</td><td>149955.85</td><td>194397.12</td><td>194448.21</td><td>174012.18</td><td>172060.78</td><td>184614.12</td><td>184397.75</td><td>183156.97</td></tr>\n",
       "</tbody>\n",
       "</table>\n"
      ],
      "text/latex": [
       "\\begin{tabular}{lllllllllllllllllll}\n",
       " 1 & 2 & 3 & 4 & 5 & 6 & 7 & 8 & 9 & 10 & 11 & 12 & 13 & 14 & 15 & 16 & 17 & 18 & 19\\\\\n",
       "\\hline\n",
       "\t 187479.08 & 141652.61 & 163000.36 & 169584.40 & 141745.39 & 151086.36 & 193584.17 & 144806.44 & 159388.10 & 138585.25 & 140047.07 & 158928.92 & 161322.76 & 155152.28 & 153394.07 & 153336.85 & 153069.00 & 152838.76 & 153197.11\\\\\n",
       "\t  96953.41 &  63783.33 &  85037.65 &  76643.17 &  64943.58 &  56414.96 &  63233.49 &  63054.88 &  60503.10 &  60213.51 &  58210.21 &  57939.91 &  59975.07 &  58629.57 &  58961.90 &  58757.55 &  58570.71 &  58890.03 &  58949.25\\\\\n",
       "\t 165455.17 & 167628.28 & 166950.43 & 152446.17 & 156473.24 & 135551.12 & 137609.30 & 146028.36 & 131999.41 & 122733.87 & 127967.69 & 129804.19 & 133746.86 & 135748.87 & 137937.17 & 140321.51 & 141302.29 & 140985.80 & 140392.48\\\\\n",
       "\t 124448.91 & 110672.67 & 107993.98 & 113989.64 & 108523.54 &  92925.54 & 104522.24 &  96227.18 &  93363.36 &  96084.53 &  99397.85 & 100151.19 & 103073.96 & 106622.46 & 106211.72 & 107797.54 & 106288.67 & 106913.18 & 106919.66\\\\\n",
       "\t 136168.29 &  79595.09 &  86881.88 &  94404.06 &  89153.27 &  83111.09 &  86412.18 &  77319.95 &  80439.75 &  75912.55 &  81680.13 &  83861.19 &  85111.01 &  84901.63 &  82829.44 &  84923.57 &  83994.95 &  84184.48 &  84284.62\\\\\n",
       "\t 171886.20 & 120892.96 & 120879.58 & 106957.31 & 100767.73 &  89494.38 &  94093.52 &  86104.48 &  84884.10 &  80575.26 &  80155.27 &  75768.73 &  76927.44 &  76529.74 &  78219.76 &  78256.23 &  77973.40 &  79151.81 &  78988.92\\\\\n",
       "\t  56375.90 &  74835.19 &  72726.96 &  59493.96 &  64024.85 &  59914.20 &  62942.94 &  60371.85 &  61436.77 &  62082.63 &  66155.09 &  65960.47 &  66310.58 &  70079.10 &  69553.50 &  68242.10 &  68114.27 &  67961.32 &  67943.62\\\\\n",
       "\t  93744.51 &  85579.47 &  98227.05 & 109847.35 & 100709.25 &  88934.97 &  90779.58 &  77151.69 &  75016.23 &  71782.40 &  76971.60 &  77696.55 &  78460.91 &  81107.16 &  82431.25 &  82213.66 &  81958.75 &  81893.97 &  81848.89\\\\\n",
       "\t 421669.62 & 454728.90 & 437024.28 & 419721.20 & 427986.39 & 401473.33 & 396247.58 & 381851.15 & 369574.22 & 376137.45 & 373544.77 & 382668.48 & 375284.60 & 376527.06 & 374706.25 & 372917.91 & 371622.53 & 373745.20 & 372365.67\\\\\n",
       "\t 146753.76 & 102599.22 & 192447.51 & 208506.12 & 214085.78 & 224120.38 & 214037.26 & 169160.95 & 177991.11 & 169239.17 & 147408.48 & 149955.85 & 194397.12 & 194448.21 & 174012.18 & 172060.78 & 184614.12 & 184397.75 & 183156.97\\\\\n",
       "\\end{tabular}\n"
      ],
      "text/markdown": [
       "\n",
       "1 | 2 | 3 | 4 | 5 | 6 | 7 | 8 | 9 | 10 | 11 | 12 | 13 | 14 | 15 | 16 | 17 | 18 | 19 | \n",
       "|---|---|---|---|---|---|---|---|---|---|\n",
       "| 187479.08 | 141652.61 | 163000.36 | 169584.40 | 141745.39 | 151086.36 | 193584.17 | 144806.44 | 159388.10 | 138585.25 | 140047.07 | 158928.92 | 161322.76 | 155152.28 | 153394.07 | 153336.85 | 153069.00 | 152838.76 | 153197.11 | \n",
       "|  96953.41 |  63783.33 |  85037.65 |  76643.17 |  64943.58 |  56414.96 |  63233.49 |  63054.88 |  60503.10 |  60213.51 |  58210.21 |  57939.91 |  59975.07 |  58629.57 |  58961.90 |  58757.55 |  58570.71 |  58890.03 |  58949.25 | \n",
       "| 165455.17 | 167628.28 | 166950.43 | 152446.17 | 156473.24 | 135551.12 | 137609.30 | 146028.36 | 131999.41 | 122733.87 | 127967.69 | 129804.19 | 133746.86 | 135748.87 | 137937.17 | 140321.51 | 141302.29 | 140985.80 | 140392.48 | \n",
       "| 124448.91 | 110672.67 | 107993.98 | 113989.64 | 108523.54 |  92925.54 | 104522.24 |  96227.18 |  93363.36 |  96084.53 |  99397.85 | 100151.19 | 103073.96 | 106622.46 | 106211.72 | 107797.54 | 106288.67 | 106913.18 | 106919.66 | \n",
       "| 136168.29 |  79595.09 |  86881.88 |  94404.06 |  89153.27 |  83111.09 |  86412.18 |  77319.95 |  80439.75 |  75912.55 |  81680.13 |  83861.19 |  85111.01 |  84901.63 |  82829.44 |  84923.57 |  83994.95 |  84184.48 |  84284.62 | \n",
       "| 171886.20 | 120892.96 | 120879.58 | 106957.31 | 100767.73 |  89494.38 |  94093.52 |  86104.48 |  84884.10 |  80575.26 |  80155.27 |  75768.73 |  76927.44 |  76529.74 |  78219.76 |  78256.23 |  77973.40 |  79151.81 |  78988.92 | \n",
       "|  56375.90 |  74835.19 |  72726.96 |  59493.96 |  64024.85 |  59914.20 |  62942.94 |  60371.85 |  61436.77 |  62082.63 |  66155.09 |  65960.47 |  66310.58 |  70079.10 |  69553.50 |  68242.10 |  68114.27 |  67961.32 |  67943.62 | \n",
       "|  93744.51 |  85579.47 |  98227.05 | 109847.35 | 100709.25 |  88934.97 |  90779.58 |  77151.69 |  75016.23 |  71782.40 |  76971.60 |  77696.55 |  78460.91 |  81107.16 |  82431.25 |  82213.66 |  81958.75 |  81893.97 |  81848.89 | \n",
       "| 421669.62 | 454728.90 | 437024.28 | 419721.20 | 427986.39 | 401473.33 | 396247.58 | 381851.15 | 369574.22 | 376137.45 | 373544.77 | 382668.48 | 375284.60 | 376527.06 | 374706.25 | 372917.91 | 371622.53 | 373745.20 | 372365.67 | \n",
       "| 146753.76 | 102599.22 | 192447.51 | 208506.12 | 214085.78 | 224120.38 | 214037.26 | 169160.95 | 177991.11 | 169239.17 | 147408.48 | 149955.85 | 194397.12 | 194448.21 | 174012.18 | 172060.78 | 184614.12 | 184397.75 | 183156.97 | \n",
       "\n",
       "\n"
      ],
      "text/plain": [
       "      1         2         3         4         5         6         7        \n",
       " [1,] 187479.08 141652.61 163000.36 169584.40 141745.39 151086.36 193584.17\n",
       " [2,]  96953.41  63783.33  85037.65  76643.17  64943.58  56414.96  63233.49\n",
       " [3,] 165455.17 167628.28 166950.43 152446.17 156473.24 135551.12 137609.30\n",
       " [4,] 124448.91 110672.67 107993.98 113989.64 108523.54  92925.54 104522.24\n",
       " [5,] 136168.29  79595.09  86881.88  94404.06  89153.27  83111.09  86412.18\n",
       " [6,] 171886.20 120892.96 120879.58 106957.31 100767.73  89494.38  94093.52\n",
       " [7,]  56375.90  74835.19  72726.96  59493.96  64024.85  59914.20  62942.94\n",
       " [8,]  93744.51  85579.47  98227.05 109847.35 100709.25  88934.97  90779.58\n",
       " [9,] 421669.62 454728.90 437024.28 419721.20 427986.39 401473.33 396247.58\n",
       "[10,] 146753.76 102599.22 192447.51 208506.12 214085.78 224120.38 214037.26\n",
       "      8         9         10        11        12        13        14       \n",
       " [1,] 144806.44 159388.10 138585.25 140047.07 158928.92 161322.76 155152.28\n",
       " [2,]  63054.88  60503.10  60213.51  58210.21  57939.91  59975.07  58629.57\n",
       " [3,] 146028.36 131999.41 122733.87 127967.69 129804.19 133746.86 135748.87\n",
       " [4,]  96227.18  93363.36  96084.53  99397.85 100151.19 103073.96 106622.46\n",
       " [5,]  77319.95  80439.75  75912.55  81680.13  83861.19  85111.01  84901.63\n",
       " [6,]  86104.48  84884.10  80575.26  80155.27  75768.73  76927.44  76529.74\n",
       " [7,]  60371.85  61436.77  62082.63  66155.09  65960.47  66310.58  70079.10\n",
       " [8,]  77151.69  75016.23  71782.40  76971.60  77696.55  78460.91  81107.16\n",
       " [9,] 381851.15 369574.22 376137.45 373544.77 382668.48 375284.60 376527.06\n",
       "[10,] 169160.95 177991.11 169239.17 147408.48 149955.85 194397.12 194448.21\n",
       "      15        16        17        18        19       \n",
       " [1,] 153394.07 153336.85 153069.00 152838.76 153197.11\n",
       " [2,]  58961.90  58757.55  58570.71  58890.03  58949.25\n",
       " [3,] 137937.17 140321.51 141302.29 140985.80 140392.48\n",
       " [4,] 106211.72 107797.54 106288.67 106913.18 106919.66\n",
       " [5,]  82829.44  84923.57  83994.95  84184.48  84284.62\n",
       " [6,]  78219.76  78256.23  77973.40  79151.81  78988.92\n",
       " [7,]  69553.50  68242.10  68114.27  67961.32  67943.62\n",
       " [8,]  82431.25  82213.66  81958.75  81893.97  81848.89\n",
       " [9,] 374706.25 372917.91 371622.53 373745.20 372365.67\n",
       "[10,] 174012.18 172060.78 184614.12 184397.75 183156.97"
      ]
     },
     "metadata": {},
     "output_type": "display_data"
    }
   ],
   "source": [
    "cv.errors"
   ]
  },
  {
   "cell_type": "code",
   "execution_count": 85,
   "metadata": {
    "collapsed": true
   },
   "outputs": [],
   "source": [
    "mean.cv.errors = apply(cv.errors, 2, mean)"
   ]
  },
  {
   "cell_type": "code",
   "execution_count": 86,
   "metadata": {
    "collapsed": false
   },
   "outputs": [
    {
     "data": {
      "text/html": [
       "<dl class=dl-horizontal>\n",
       "\t<dt>1</dt>\n",
       "\t\t<dd>160093.486398318</dd>\n",
       "\t<dt>2</dt>\n",
       "\t\t<dd>140196.773091529</dd>\n",
       "\t<dt>3</dt>\n",
       "\t\t<dd>153116.968353284</dd>\n",
       "\t<dt>4</dt>\n",
       "\t\t<dd>151159.338649923</dd>\n",
       "\t<dt>5</dt>\n",
       "\t\t<dd>146841.301803275</dd>\n",
       "\t<dt>6</dt>\n",
       "\t\t<dd>138302.632366087</dd>\n",
       "\t<dt>7</dt>\n",
       "\t\t<dd>144346.225347738</dd>\n",
       "\t<dt>8</dt>\n",
       "\t\t<dd>130207.693625525</dd>\n",
       "\t<dt>9</dt>\n",
       "\t\t<dd>129459.613710927</dd>\n",
       "\t<dt>10</dt>\n",
       "\t\t<dd>125334.660569683</dd>\n",
       "\t<dt>11</dt>\n",
       "\t\t<dd>125153.816649585</dd>\n",
       "\t<dt>12</dt>\n",
       "\t\t<dd>128273.547905646</dd>\n",
       "\t<dt>13</dt>\n",
       "\t\t<dd>133461.030824061</dd>\n",
       "\t<dt>14</dt>\n",
       "\t\t<dd>133974.608481698</dd>\n",
       "\t<dt>15</dt>\n",
       "\t\t<dd>131825.723993328</dd>\n",
       "\t<dt>16</dt>\n",
       "\t\t<dd>131882.769468209</dd>\n",
       "\t<dt>17</dt>\n",
       "\t\t<dd>132750.868578319</dd>\n",
       "\t<dt>18</dt>\n",
       "\t\t<dd>133096.230787088</dd>\n",
       "\t<dt>19</dt>\n",
       "\t\t<dd>132804.718368856</dd>\n",
       "</dl>\n"
      ],
      "text/latex": [
       "\\begin{description*}\n",
       "\\item[1] 160093.486398318\n",
       "\\item[2] 140196.773091529\n",
       "\\item[3] 153116.968353284\n",
       "\\item[4] 151159.338649923\n",
       "\\item[5] 146841.301803275\n",
       "\\item[6] 138302.632366087\n",
       "\\item[7] 144346.225347738\n",
       "\\item[8] 130207.693625525\n",
       "\\item[9] 129459.613710927\n",
       "\\item[10] 125334.660569683\n",
       "\\item[11] 125153.816649585\n",
       "\\item[12] 128273.547905646\n",
       "\\item[13] 133461.030824061\n",
       "\\item[14] 133974.608481698\n",
       "\\item[15] 131825.723993328\n",
       "\\item[16] 131882.769468209\n",
       "\\item[17] 132750.868578319\n",
       "\\item[18] 133096.230787088\n",
       "\\item[19] 132804.718368856\n",
       "\\end{description*}\n"
      ],
      "text/markdown": [
       "1\n",
       ":   160093.4863983182\n",
       ":   140196.7730915293\n",
       ":   153116.9683532844\n",
       ":   151159.3386499235\n",
       ":   146841.3018032756\n",
       ":   138302.6323660877\n",
       ":   144346.2253477388\n",
       ":   130207.6936255259\n",
       ":   129459.61371092710\n",
       ":   125334.66056968311\n",
       ":   125153.81664958512\n",
       ":   128273.54790564613\n",
       ":   133461.03082406114\n",
       ":   133974.60848169815\n",
       ":   131825.72399332816\n",
       ":   131882.76946820917\n",
       ":   132750.86857831918\n",
       ":   133096.23078708819\n",
       ":   132804.718368856\n",
       "\n"
      ],
      "text/plain": [
       "       1        2        3        4        5        6        7        8 \n",
       "160093.5 140196.8 153117.0 151159.3 146841.3 138302.6 144346.2 130207.7 \n",
       "       9       10       11       12       13       14       15       16 \n",
       "129459.6 125334.7 125153.8 128273.5 133461.0 133974.6 131825.7 131882.8 \n",
       "      17       18       19 \n",
       "132750.9 133096.2 132804.7 "
      ]
     },
     "metadata": {},
     "output_type": "display_data"
    }
   ],
   "source": [
    "mean.cv.errors"
   ]
  },
  {
   "cell_type": "code",
   "execution_count": 87,
   "metadata": {
    "collapsed": false
   },
   "outputs": [
    {
     "data": {
      "image/png": "[encoded data removed]",
      "text/plain": [
       "plot without title"
      ]
     },
     "metadata": {},
     "output_type": "display_data"
    }
   ],
   "source": [
    "plot(mean.cv.errors, type='b')"
   ]
  },
  {
   "cell_type": "code",
   "execution_count": 88,
   "metadata": {
    "collapsed": false
   },
   "outputs": [
    {
     "data": {
      "text/html": [
       "<strong>11:</strong> 11"
      ],
      "text/latex": [
       "\\textbf{11:} 11"
      ],
      "text/markdown": [
       "**11:** 11"
      ],
      "text/plain": [
       "11 \n",
       "11 "
      ]
     },
     "metadata": {},
     "output_type": "display_data"
    }
   ],
   "source": [
    "which.min(mean.cv.errors)"
   ]
  },
  {
   "cell_type": "markdown",
   "metadata": {},
   "source": [
    "So the cross-validation set approach selects the 11-variabls model. To obtain the model we want, we have to fit the 11-variables model on our full data:"
   ]
  },
  {
   "cell_type": "code",
   "execution_count": 89,
   "metadata": {
    "collapsed": false
   },
   "outputs": [
    {
     "data": {
      "text/html": [
       "<dl class=dl-horizontal>\n",
       "\t<dt>(Intercept)</dt>\n",
       "\t\t<dd>135.751219457458</dd>\n",
       "\t<dt>AtBat</dt>\n",
       "\t\t<dd>-2.12774819603869</dd>\n",
       "\t<dt>Hits</dt>\n",
       "\t\t<dd>6.92369939666552</dd>\n",
       "\t<dt>Walks</dt>\n",
       "\t\t<dd>5.62027551957861</dd>\n",
       "\t<dt>CAtBat</dt>\n",
       "\t\t<dd>-0.138991434861849</dd>\n",
       "\t<dt>CRuns</dt>\n",
       "\t\t<dd>1.45533103037942</dd>\n",
       "\t<dt>CRBI</dt>\n",
       "\t\t<dd>0.785252782049429</dd>\n",
       "\t<dt>CWalks</dt>\n",
       "\t\t<dd>-0.822855923951907</dd>\n",
       "\t<dt>LeagueN</dt>\n",
       "\t\t<dd>43.1116151638512</dd>\n",
       "\t<dt>DivisionW</dt>\n",
       "\t\t<dd>-111.14602518374</dd>\n",
       "\t<dt>PutOuts</dt>\n",
       "\t\t<dd>0.289408680295373</dd>\n",
       "\t<dt>Assists</dt>\n",
       "\t\t<dd>0.26882769003494</dd>\n",
       "</dl>\n"
      ],
      "text/latex": [
       "\\begin{description*}\n",
       "\\item[(Intercept)] 135.751219457458\n",
       "\\item[AtBat] -2.12774819603869\n",
       "\\item[Hits] 6.92369939666552\n",
       "\\item[Walks] 5.62027551957861\n",
       "\\item[CAtBat] -0.138991434861849\n",
       "\\item[CRuns] 1.45533103037942\n",
       "\\item[CRBI] 0.785252782049429\n",
       "\\item[CWalks] -0.822855923951907\n",
       "\\item[LeagueN] 43.1116151638512\n",
       "\\item[DivisionW] -111.14602518374\n",
       "\\item[PutOuts] 0.289408680295373\n",
       "\\item[Assists] 0.26882769003494\n",
       "\\end{description*}\n"
      ],
      "text/markdown": [
       "(Intercept)\n",
       ":   135.751219457458AtBat\n",
       ":   -2.12774819603869Hits\n",
       ":   6.92369939666552Walks\n",
       ":   5.62027551957861CAtBat\n",
       ":   -0.138991434861849CRuns\n",
       ":   1.45533103037942CRBI\n",
       ":   0.785252782049429CWalks\n",
       ":   -0.822855923951907LeagueN\n",
       ":   43.1116151638512DivisionW\n",
       ":   -111.14602518374PutOuts\n",
       ":   0.289408680295373Assists\n",
       ":   0.26882769003494\n",
       "\n"
      ],
      "text/plain": [
       " (Intercept)        AtBat         Hits        Walks       CAtBat        CRuns \n",
       " 135.7512195   -2.1277482    6.9236994    5.6202755   -0.1389914    1.4553310 \n",
       "        CRBI       CWalks      LeagueN    DivisionW      PutOuts      Assists \n",
       "   0.7852528   -0.8228559   43.1116152 -111.1460252    0.2894087    0.2688277 "
      ]
     },
     "metadata": {},
     "output_type": "display_data"
    }
   ],
   "source": [
    "reg.best = regsubsets(Salary~., data=Hitters, nvmax=19)\n",
    "coef(reg.best, 11)"
   ]
  },
  {
   "cell_type": "markdown",
   "metadata": {},
   "source": [
    "### Lab 2  Ridge Regression and the Lasso"
   ]
  },
  {
   "cell_type": "markdown",
   "metadata": {},
   "source": [
    "Use the **`glmnet`** package to perform the ridge regression and the lasso regression\n",
    "Unlike other function used before, the `glmnet` require independent `x` and `y` input. Use the **model.matrix** to extract the `x`. Note that the `model.matrix` convert all qualitative variables to dummy variables, and by providing the `Salary~.`, it can move the Salary column to the last column."
   ]
  },
  {
   "cell_type": "code",
   "execution_count": 90,
   "metadata": {
    "collapsed": false
   },
   "outputs": [],
   "source": [
    "x = model.matrix(Salary~.,Hitters)[,-1]\n",
    "y = Hitters$Salary"
   ]
  },
  {
   "cell_type": "markdown",
   "metadata": {},
   "source": [
    "#### Ridge regression"
   ]
  },
  {
   "cell_type": "code",
   "execution_count": 91,
   "metadata": {
    "collapsed": false
   },
   "outputs": [],
   "source": [
    "library(glmnet)"
   ]
  },
  {
   "cell_type": "markdown",
   "metadata": {
    "collapsed": true
   },
   "source": [
    "Use the function `glmnet` to do either ridge or lasso regression. It can also do other types of regression.\n",
    "First, generate a serial of $\\lambda$, and do the ridge regression by providing the argument `alpha=0`. If `alpha=1`, then the function does lasso regression."
   ]
  },
  {
   "cell_type": "code",
   "execution_count": 92,
   "metadata": {
    "collapsed": false
   },
   "outputs": [],
   "source": [
    "grid = 10^seq(10,-2, length=100)\n",
    "ridge.mod = glmnet(x, y, alpha=0, lambda=grid)"
   ]
  },
  {
   "cell_type": "markdown",
   "metadata": {},
   "source": [
    "The `glmnet` fucntion will standarlize the variables. This feature can be turned off via arg `standardize=FALSE`."
   ]
  },
  {
   "cell_type": "code",
   "execution_count": 93,
   "metadata": {
    "collapsed": false
   },
   "outputs": [
    {
     "data": {
      "text/html": [
       "<ol class=list-inline>\n",
       "\t<li>20</li>\n",
       "\t<li>100</li>\n",
       "</ol>\n"
      ],
      "text/latex": [
       "\\begin{enumerate*}\n",
       "\\item 20\n",
       "\\item 100\n",
       "\\end{enumerate*}\n"
      ],
      "text/markdown": [
       "1. 20\n",
       "2. 100\n",
       "\n",
       "\n"
      ],
      "text/plain": [
       "[1]  20 100"
      ]
     },
     "metadata": {},
     "output_type": "display_data"
    }
   ],
   "source": [
    "dim(coef(ridge.mod))"
   ]
  },
  {
   "cell_type": "markdown",
   "metadata": {},
   "source": [
    "So it has 100 sets of model coefficients coressponding to the 100 $\\lambda$ values. The 50th set of coefficients is "
   ]
  },
  {
   "cell_type": "code",
   "execution_count": 94,
   "metadata": {
    "collapsed": false
   },
   "outputs": [
    {
     "data": {
      "text/html": [
       "<dl class=dl-horizontal>\n",
       "\t<dt>(Intercept)</dt>\n",
       "\t\t<dd>407.356050200416</dd>\n",
       "\t<dt>AtBat</dt>\n",
       "\t\t<dd>0.0369571817501359</dd>\n",
       "\t<dt>Hits</dt>\n",
       "\t\t<dd>0.138180343807892</dd>\n",
       "\t<dt>HmRun</dt>\n",
       "\t\t<dd>0.524629975886911</dd>\n",
       "\t<dt>Runs</dt>\n",
       "\t\t<dd>0.230701522621179</dd>\n",
       "\t<dt>RBI</dt>\n",
       "\t\t<dd>0.239841458504058</dd>\n",
       "\t<dt>Walks</dt>\n",
       "\t\t<dd>0.289618741049884</dd>\n",
       "\t<dt>Years</dt>\n",
       "\t\t<dd>1.10770292908555</dd>\n",
       "\t<dt>CAtBat</dt>\n",
       "\t\t<dd>0.00313181522151328</dd>\n",
       "\t<dt>CHits</dt>\n",
       "\t\t<dd>0.0116536373557531</dd>\n",
       "\t<dt>CHmRun</dt>\n",
       "\t\t<dd>0.0875456697555949</dd>\n",
       "\t<dt>CRuns</dt>\n",
       "\t\t<dd>0.0233798823693758</dd>\n",
       "\t<dt>CRBI</dt>\n",
       "\t\t<dd>0.0241383203685686</dd>\n",
       "\t<dt>CWalks</dt>\n",
       "\t\t<dd>0.0250154205993732</dd>\n",
       "\t<dt>LeagueN</dt>\n",
       "\t\t<dd>0.0850281135625444</dd>\n",
       "\t<dt>DivisionW</dt>\n",
       "\t\t<dd>-6.21544097273146</dd>\n",
       "\t<dt>PutOuts</dt>\n",
       "\t\t<dd>0.0164825767604547</dd>\n",
       "\t<dt>Assists</dt>\n",
       "\t\t<dd>0.00261298804528183</dd>\n",
       "\t<dt>Errors</dt>\n",
       "\t\t<dd>-0.0205026903654579</dd>\n",
       "\t<dt>NewLeagueN</dt>\n",
       "\t\t<dd>0.301433531372699</dd>\n",
       "</dl>\n"
      ],
      "text/latex": [
       "\\begin{description*}\n",
       "\\item[(Intercept)] 407.356050200416\n",
       "\\item[AtBat] 0.0369571817501359\n",
       "\\item[Hits] 0.138180343807892\n",
       "\\item[HmRun] 0.524629975886911\n",
       "\\item[Runs] 0.230701522621179\n",
       "\\item[RBI] 0.239841458504058\n",
       "\\item[Walks] 0.289618741049884\n",
       "\\item[Years] 1.10770292908555\n",
       "\\item[CAtBat] 0.00313181522151328\n",
       "\\item[CHits] 0.0116536373557531\n",
       "\\item[CHmRun] 0.0875456697555949\n",
       "\\item[CRuns] 0.0233798823693758\n",
       "\\item[CRBI] 0.0241383203685686\n",
       "\\item[CWalks] 0.0250154205993732\n",
       "\\item[LeagueN] 0.0850281135625444\n",
       "\\item[DivisionW] -6.21544097273146\n",
       "\\item[PutOuts] 0.0164825767604547\n",
       "\\item[Assists] 0.00261298804528183\n",
       "\\item[Errors] -0.0205026903654579\n",
       "\\item[NewLeagueN] 0.301433531372699\n",
       "\\end{description*}\n"
      ],
      "text/markdown": [
       "(Intercept)\n",
       ":   407.356050200416AtBat\n",
       ":   0.0369571817501359Hits\n",
       ":   0.138180343807892HmRun\n",
       ":   0.524629975886911Runs\n",
       ":   0.230701522621179RBI\n",
       ":   0.239841458504058Walks\n",
       ":   0.289618741049884Years\n",
       ":   1.10770292908555CAtBat\n",
       ":   0.00313181522151328CHits\n",
       ":   0.0116536373557531CHmRun\n",
       ":   0.0875456697555949CRuns\n",
       ":   0.0233798823693758CRBI\n",
       ":   0.0241383203685686CWalks\n",
       ":   0.0250154205993732LeagueN\n",
       ":   0.0850281135625444DivisionW\n",
       ":   -6.21544097273146PutOuts\n",
       ":   0.0164825767604547Assists\n",
       ":   0.00261298804528183Errors\n",
       ":   -0.0205026903654579NewLeagueN\n",
       ":   0.301433531372699\n",
       "\n"
      ],
      "text/plain": [
       "  (Intercept)         AtBat          Hits         HmRun          Runs \n",
       "407.356050200   0.036957182   0.138180344   0.524629976   0.230701523 \n",
       "          RBI         Walks         Years        CAtBat         CHits \n",
       "  0.239841459   0.289618741   1.107702929   0.003131815   0.011653637 \n",
       "       CHmRun         CRuns          CRBI        CWalks       LeagueN \n",
       "  0.087545670   0.023379882   0.024138320   0.025015421   0.085028114 \n",
       "    DivisionW       PutOuts       Assists        Errors    NewLeagueN \n",
       " -6.215440973   0.016482577   0.002612988  -0.020502690   0.301433531 "
      ]
     },
     "metadata": {},
     "output_type": "display_data"
    }
   ],
   "source": [
    "coef(ridge.mod)[,50]"
   ]
  },
  {
   "cell_type": "markdown",
   "metadata": {},
   "source": [
    "where the $\\lambda$ is"
   ]
  },
  {
   "cell_type": "code",
   "execution_count": 95,
   "metadata": {
    "collapsed": false
   },
   "outputs": [
    {
     "data": {
      "text/html": [
       "11497.5699539774"
      ],
      "text/latex": [
       "11497.5699539774"
      ],
      "text/markdown": [
       "11497.5699539774"
      ],
      "text/plain": [
       "[1] 11497.57"
      ]
     },
     "metadata": {},
     "output_type": "display_data"
    }
   ],
   "source": [
    "grid[50]"
   ]
  },
  {
   "cell_type": "markdown",
   "metadata": {},
   "source": [
    "The $\\lambda$ can also be repored from the resutls itself,"
   ]
  },
  {
   "cell_type": "code",
   "execution_count": 96,
   "metadata": {
    "collapsed": false
   },
   "outputs": [
    {
     "data": {
      "text/html": [
       "11497.5699539774"
      ],
      "text/latex": [
       "11497.5699539774"
      ],
      "text/markdown": [
       "11497.5699539774"
      ],
      "text/plain": [
       "[1] 11497.57"
      ]
     },
     "metadata": {},
     "output_type": "display_data"
    }
   ],
   "source": [
    "ridge.mod$lambda[50]"
   ]
  },
  {
   "cell_type": "markdown",
   "metadata": {},
   "source": [
    "We can check the values of $\\sqrt{\\beta_1^2 + \\beta_2^2 + \\ldots + \\beta_p^2}$"
   ]
  },
  {
   "cell_type": "code",
   "execution_count": 97,
   "metadata": {
    "collapsed": false
   },
   "outputs": [
    {
     "data": {
      "text/html": [
       "6.36061242142791"
      ],
      "text/latex": [
       "6.36061242142791"
      ],
      "text/markdown": [
       "6.36061242142791"
      ],
      "text/plain": [
       "[1] 6.360612"
      ]
     },
     "metadata": {},
     "output_type": "display_data"
    }
   ],
   "source": [
    "sqrt(sum(coef(ridge.mod)[-1,50]^2))"
   ]
  },
  {
   "cell_type": "code",
   "execution_count": 98,
   "metadata": {
    "collapsed": false
   },
   "outputs": [
    {
     "data": {
      "text/html": [
       "705.480231071865"
      ],
      "text/latex": [
       "705.480231071865"
      ],
      "text/markdown": [
       "705.480231071865"
      ],
      "text/plain": [
       "[1] 705.4802"
      ]
     },
     "metadata": {},
     "output_type": "display_data"
    },
    {
     "data": {
      "text/html": [
       "57.110014262533"
      ],
      "text/latex": [
       "57.110014262533"
      ],
      "text/markdown": [
       "57.110014262533"
      ],
      "text/plain": [
       "[1] 57.11001"
      ]
     },
     "metadata": {},
     "output_type": "display_data"
    }
   ],
   "source": [
    "ridge.mod$lambda[60]\n",
    "sqrt(sum(coef(ridge.mod)[-1,60]^2) )"
   ]
  },
  {
   "cell_type": "markdown",
   "metadata": {},
   "source": [
    "To see $\\beta_j$ for a new $\\lambda$, use `predict`, for example, the $\\beta_j$ for $\\lambda=50$ is"
   ]
  },
  {
   "cell_type": "code",
   "execution_count": 99,
   "metadata": {
    "collapsed": false
   },
   "outputs": [
    {
     "data": {
      "text/html": [
       "<dl class=dl-horizontal>\n",
       "\t<dt>(Intercept)</dt>\n",
       "\t\t<dd>48.7661032921608</dd>\n",
       "\t<dt>AtBat</dt>\n",
       "\t\t<dd>-0.358099859376738</dd>\n",
       "\t<dt>Hits</dt>\n",
       "\t\t<dd>1.96935928646357</dd>\n",
       "\t<dt>HmRun</dt>\n",
       "\t\t<dd>-1.27824798145678</dd>\n",
       "\t<dt>Runs</dt>\n",
       "\t\t<dd>1.14589163211962</dd>\n",
       "\t<dt>RBI</dt>\n",
       "\t\t<dd>0.803829228437672</dd>\n",
       "\t<dt>Walks</dt>\n",
       "\t\t<dd>2.71618579623371</dd>\n",
       "\t<dt>Years</dt>\n",
       "\t\t<dd>-6.21831921727865</dd>\n",
       "\t<dt>CAtBat</dt>\n",
       "\t\t<dd>0.00544783719814918</dd>\n",
       "\t<dt>CHits</dt>\n",
       "\t\t<dd>0.10648951402342</dd>\n",
       "\t<dt>CHmRun</dt>\n",
       "\t\t<dd>0.624485956082661</dd>\n",
       "\t<dt>CRuns</dt>\n",
       "\t\t<dd>0.221498463760022</dd>\n",
       "\t<dt>CRBI</dt>\n",
       "\t\t<dd>0.218691380321248</dd>\n",
       "\t<dt>CWalks</dt>\n",
       "\t\t<dd>-0.150024548516927</dd>\n",
       "\t<dt>LeagueN</dt>\n",
       "\t\t<dd>45.9258855144158</dd>\n",
       "\t<dt>DivisionW</dt>\n",
       "\t\t<dd>-118.201136816368</dd>\n",
       "\t<dt>PutOuts</dt>\n",
       "\t\t<dd>0.250232154092559</dd>\n",
       "\t<dt>Assists</dt>\n",
       "\t\t<dd>0.121566461346767</dd>\n",
       "\t<dt>Errors</dt>\n",
       "\t\t<dd>-3.27859954463555</dd>\n",
       "\t<dt>NewLeagueN</dt>\n",
       "\t\t<dd>-9.4966803100264</dd>\n",
       "</dl>\n"
      ],
      "text/latex": [
       "\\begin{description*}\n",
       "\\item[(Intercept)] 48.7661032921608\n",
       "\\item[AtBat] -0.358099859376738\n",
       "\\item[Hits] 1.96935928646357\n",
       "\\item[HmRun] -1.27824798145678\n",
       "\\item[Runs] 1.14589163211962\n",
       "\\item[RBI] 0.803829228437672\n",
       "\\item[Walks] 2.71618579623371\n",
       "\\item[Years] -6.21831921727865\n",
       "\\item[CAtBat] 0.00544783719814918\n",
       "\\item[CHits] 0.10648951402342\n",
       "\\item[CHmRun] 0.624485956082661\n",
       "\\item[CRuns] 0.221498463760022\n",
       "\\item[CRBI] 0.218691380321248\n",
       "\\item[CWalks] -0.150024548516927\n",
       "\\item[LeagueN] 45.9258855144158\n",
       "\\item[DivisionW] -118.201136816368\n",
       "\\item[PutOuts] 0.250232154092559\n",
       "\\item[Assists] 0.121566461346767\n",
       "\\item[Errors] -3.27859954463555\n",
       "\\item[NewLeagueN] -9.4966803100264\n",
       "\\end{description*}\n"
      ],
      "text/markdown": [
       "(Intercept)\n",
       ":   48.7661032921608AtBat\n",
       ":   -0.358099859376738Hits\n",
       ":   1.96935928646357HmRun\n",
       ":   -1.27824798145678Runs\n",
       ":   1.14589163211962RBI\n",
       ":   0.803829228437672Walks\n",
       ":   2.71618579623371Years\n",
       ":   -6.21831921727865CAtBat\n",
       ":   0.00544783719814918CHits\n",
       ":   0.10648951402342CHmRun\n",
       ":   0.624485956082661CRuns\n",
       ":   0.221498463760022CRBI\n",
       ":   0.218691380321248CWalks\n",
       ":   -0.150024548516927LeagueN\n",
       ":   45.9258855144158DivisionW\n",
       ":   -118.201136816368PutOuts\n",
       ":   0.250232154092559Assists\n",
       ":   0.121566461346767Errors\n",
       ":   -3.27859954463555NewLeagueN\n",
       ":   -9.4966803100264\n",
       "\n"
      ],
      "text/plain": [
       "  (Intercept)         AtBat          Hits         HmRun          Runs \n",
       " 4.876610e+01 -3.580999e-01  1.969359e+00 -1.278248e+00  1.145892e+00 \n",
       "          RBI         Walks         Years        CAtBat         CHits \n",
       " 8.038292e-01  2.716186e+00 -6.218319e+00  5.447837e-03  1.064895e-01 \n",
       "       CHmRun         CRuns          CRBI        CWalks       LeagueN \n",
       " 6.244860e-01  2.214985e-01  2.186914e-01 -1.500245e-01  4.592589e+01 \n",
       "    DivisionW       PutOuts       Assists        Errors    NewLeagueN \n",
       "-1.182011e+02  2.502322e-01  1.215665e-01 -3.278600e+00 -9.496680e+00 "
      ]
     },
     "metadata": {},
     "output_type": "display_data"
    }
   ],
   "source": [
    "predict(ridge.mod, s=50, type='coefficients')[1:20,]"
   ]
  },
  {
   "cell_type": "markdown",
   "metadata": {},
   "source": [
    "Now, estimate test MSE using validation set approach"
   ]
  },
  {
   "cell_type": "code",
   "execution_count": 100,
   "metadata": {
    "collapsed": false
   },
   "outputs": [],
   "source": [
    "set.seed(1)\n",
    "train=sample(1:nrow(x), nrow(x)/2) # if not use arg `replace=TRUE`, it will generate a list of unique number\n",
    "test = (-train)\n",
    "y.test = y[test]"
   ]
  },
  {
   "cell_type": "markdown",
   "metadata": {},
   "source": [
    "Fit using the training set"
   ]
  },
  {
   "cell_type": "code",
   "execution_count": 101,
   "metadata": {
    "collapsed": false
   },
   "outputs": [
    {
     "data": {
      "text/html": [
       "101036.832669597"
      ],
      "text/latex": [
       "101036.832669597"
      ],
      "text/markdown": [
       "101036.832669597"
      ],
      "text/plain": [
       "[1] 101036.8"
      ]
     },
     "metadata": {},
     "output_type": "display_data"
    }
   ],
   "source": [
    "ridge.mod=glmnet(x[train, ], y[train], alpha=0, lambda=grid, thresh=1e-12)\n",
    "ridge.pred=predict(ridge.mod, s=4, newx=x[test, ]) # to be used to evaluate test MSE, need to provide s, i.e. $\\labmda$\n",
    "mean((ridge.pred - y.test)^2)"
   ]
  },
  {
   "cell_type": "markdown",
   "metadata": {},
   "source": [
    "Use cross-validation approach to select the most propriate value of $\\lambda$, can use simply the build-in `cv.glmnet()` fucntion:"
   ]
  },
  {
   "cell_type": "code",
   "execution_count": 102,
   "metadata": {
    "collapsed": false
   },
   "outputs": [
    {
     "data": {
      "image/png": "[encoded data removed]",
      "text/plain": [
       "plot without title"
      ]
     },
     "metadata": {},
     "output_type": "display_data"
    }
   ],
   "source": [
    "set.seed(1)\n",
    "cv.out=cv.glmnet(x[train,], y[train], alpha=0)\n",
    "plot(cv.out) #can plot the result"
   ]
  },
  {
   "cell_type": "code",
   "execution_count": 103,
   "metadata": {
    "collapsed": false
   },
   "outputs": [
    {
     "data": {
      "text/html": [
       "211.741584781282"
      ],
      "text/latex": [
       "211.741584781282"
      ],
      "text/markdown": [
       "211.741584781282"
      ],
      "text/plain": [
       "[1] 211.7416"
      ]
     },
     "metadata": {},
     "output_type": "display_data"
    }
   ],
   "source": [
    "bestlam=cv.out$lambda.min\n",
    "bestlam"
   ]
  },
  {
   "cell_type": "code",
   "execution_count": 104,
   "metadata": {
    "collapsed": false
   },
   "outputs": [
    {
     "data": {
      "text/html": [
       "96015.5127255327"
      ],
      "text/latex": [
       "96015.5127255327"
      ],
      "text/markdown": [
       "96015.5127255327"
      ],
      "text/plain": [
       "[1] 96015.51"
      ]
     },
     "metadata": {},
     "output_type": "display_data"
    }
   ],
   "source": [
    "# to see test MSE with that value of lambda\n",
    "ridge.pred=predict(ridge.mod, s=bestlam, newx=x[test,])\n",
    "mean((ridge.pred-y.test)^2)"
   ]
  },
  {
   "cell_type": "markdown",
   "metadata": {},
   "source": [
    "As can been seen above, the test error is lower."
   ]
  },
  {
   "cell_type": "markdown",
   "metadata": {},
   "source": [
    "Finally, refit the model using the best $lambad$ and our full data:"
   ]
  },
  {
   "cell_type": "code",
   "execution_count": 105,
   "metadata": {
    "collapsed": false
   },
   "outputs": [
    {
     "data": {
      "text/html": [
       "<dl class=dl-horizontal>\n",
       "\t<dt>(Intercept)</dt>\n",
       "\t\t<dd>9.88487156523819</dd>\n",
       "\t<dt>AtBat</dt>\n",
       "\t\t<dd>0.0314399123075993</dd>\n",
       "\t<dt>Hits</dt>\n",
       "\t\t<dd>1.00882875071523</dd>\n",
       "\t<dt>HmRun</dt>\n",
       "\t\t<dd>0.139276236015288</dd>\n",
       "\t<dt>Runs</dt>\n",
       "\t\t<dd>1.11320780992504</dd>\n",
       "\t<dt>RBI</dt>\n",
       "\t\t<dd>0.873189900643772</dd>\n",
       "\t<dt>Walks</dt>\n",
       "\t\t<dd>1.80410229199678</dd>\n",
       "\t<dt>Years</dt>\n",
       "\t\t<dd>0.130743811114436</dd>\n",
       "\t<dt>CAtBat</dt>\n",
       "\t\t<dd>0.0111397797786966</dd>\n",
       "\t<dt>CHits</dt>\n",
       "\t\t<dd>0.0648984331610168</dd>\n",
       "\t<dt>CHmRun</dt>\n",
       "\t\t<dd>0.451585462080598</dd>\n",
       "\t<dt>CRuns</dt>\n",
       "\t\t<dd>0.12900049045775</dd>\n",
       "\t<dt>CRBI</dt>\n",
       "\t\t<dd>0.13737711633305</dd>\n",
       "\t<dt>CWalks</dt>\n",
       "\t\t<dd>0.0290857160383186</dd>\n",
       "\t<dt>LeagueN</dt>\n",
       "\t\t<dd>27.1822753486268</dd>\n",
       "\t<dt>DivisionW</dt>\n",
       "\t\t<dd>-91.6341129943135</dd>\n",
       "\t<dt>PutOuts</dt>\n",
       "\t\t<dd>0.191492519898057</dd>\n",
       "\t<dt>Assists</dt>\n",
       "\t\t<dd>0.0425453623726451</dd>\n",
       "\t<dt>Errors</dt>\n",
       "\t\t<dd>-1.81244470270312</dd>\n",
       "\t<dt>NewLeagueN</dt>\n",
       "\t\t<dd>7.2120838996523</dd>\n",
       "</dl>\n"
      ],
      "text/latex": [
       "\\begin{description*}\n",
       "\\item[(Intercept)] 9.88487156523819\n",
       "\\item[AtBat] 0.0314399123075993\n",
       "\\item[Hits] 1.00882875071523\n",
       "\\item[HmRun] 0.139276236015288\n",
       "\\item[Runs] 1.11320780992504\n",
       "\\item[RBI] 0.873189900643772\n",
       "\\item[Walks] 1.80410229199678\n",
       "\\item[Years] 0.130743811114436\n",
       "\\item[CAtBat] 0.0111397797786966\n",
       "\\item[CHits] 0.0648984331610168\n",
       "\\item[CHmRun] 0.451585462080598\n",
       "\\item[CRuns] 0.12900049045775\n",
       "\\item[CRBI] 0.13737711633305\n",
       "\\item[CWalks] 0.0290857160383186\n",
       "\\item[LeagueN] 27.1822753486268\n",
       "\\item[DivisionW] -91.6341129943135\n",
       "\\item[PutOuts] 0.191492519898057\n",
       "\\item[Assists] 0.0425453623726451\n",
       "\\item[Errors] -1.81244470270312\n",
       "\\item[NewLeagueN] 7.2120838996523\n",
       "\\end{description*}\n"
      ],
      "text/markdown": [
       "(Intercept)\n",
       ":   9.88487156523819AtBat\n",
       ":   0.0314399123075993Hits\n",
       ":   1.00882875071523HmRun\n",
       ":   0.139276236015288Runs\n",
       ":   1.11320780992504RBI\n",
       ":   0.873189900643772Walks\n",
       ":   1.80410229199678Years\n",
       ":   0.130743811114436CAtBat\n",
       ":   0.0111397797786966CHits\n",
       ":   0.0648984331610168CHmRun\n",
       ":   0.451585462080598CRuns\n",
       ":   0.12900049045775CRBI\n",
       ":   0.13737711633305CWalks\n",
       ":   0.0290857160383186LeagueN\n",
       ":   27.1822753486268DivisionW\n",
       ":   -91.6341129943135PutOuts\n",
       ":   0.191492519898057Assists\n",
       ":   0.0425453623726451Errors\n",
       ":   -1.81244470270312NewLeagueN\n",
       ":   7.2120838996523\n",
       "\n"
      ],
      "text/plain": [
       " (Intercept)        AtBat         Hits        HmRun         Runs          RBI \n",
       "  9.88487157   0.03143991   1.00882875   0.13927624   1.11320781   0.87318990 \n",
       "       Walks        Years       CAtBat        CHits       CHmRun        CRuns \n",
       "  1.80410229   0.13074381   0.01113978   0.06489843   0.45158546   0.12900049 \n",
       "        CRBI       CWalks      LeagueN    DivisionW      PutOuts      Assists \n",
       "  0.13737712   0.02908572  27.18227535 -91.63411299   0.19149252   0.04254536 \n",
       "      Errors   NewLeagueN \n",
       " -1.81244470   7.21208390 "
      ]
     },
     "metadata": {},
     "output_type": "display_data"
    }
   ],
   "source": [
    "Out=glmnet(x, y, alpha=0)\n",
    "predict(Out, type='coefficients', s=bestlam)[1:20,]"
   ]
  },
  {
   "cell_type": "markdown",
   "metadata": {
    "collapsed": true
   },
   "source": [
    "#### Lasso regression"
   ]
  },
  {
   "cell_type": "code",
   "execution_count": 106,
   "metadata": {
    "collapsed": false
   },
   "outputs": [
    {
     "data": {
      "image/png": "[encoded data removed]",
      "text/plain": [
       "plot without title"
      ]
     },
     "metadata": {},
     "output_type": "display_data"
    }
   ],
   "source": [
    "lasso.mod=glmnet(x[train,], y[train], alpha=1, lambda=grid)\n",
    "plot(lasso.mod)"
   ]
  },
  {
   "cell_type": "markdown",
   "metadata": {},
   "source": [
    "Use CV to get the optizmized value of $\\lambda$"
   ]
  },
  {
   "cell_type": "code",
   "execution_count": 107,
   "metadata": {
    "collapsed": false
   },
   "outputs": [
    {
     "data": {
      "image/png": "[encoded data removed]",
      "text/plain": [
       "plot without title"
      ]
     },
     "metadata": {},
     "output_type": "display_data"
    }
   ],
   "source": [
    "set.seed(1)\n",
    "cv.out=cv.glmnet(x[train,],y[train], alpha=1)\n",
    "plot(cv.out)\n",
    "bestlam=cv.out$lambda.min"
   ]
  },
  {
   "cell_type": "code",
   "execution_count": 108,
   "metadata": {
    "collapsed": false
   },
   "outputs": [
    {
     "data": {
      "text/html": [
       "16.7801584809522"
      ],
      "text/latex": [
       "16.7801584809522"
      ],
      "text/markdown": [
       "16.7801584809522"
      ],
      "text/plain": [
       "[1] 16.78016"
      ]
     },
     "metadata": {},
     "output_type": "display_data"
    }
   ],
   "source": [
    "bestlam"
   ]
  },
  {
   "cell_type": "code",
   "execution_count": 109,
   "metadata": {
    "collapsed": false
   },
   "outputs": [
    {
     "data": {
      "text/html": [
       "100743.446221539"
      ],
      "text/latex": [
       "100743.446221539"
      ],
      "text/markdown": [
       "100743.446221539"
      ],
      "text/plain": [
       "[1] 100743.4"
      ]
     },
     "metadata": {},
     "output_type": "display_data"
    }
   ],
   "source": [
    "lasso.pred=predict(lasso.mod, s=bestlam, newx=x[test,])\n",
    "mean((lasso.pred-y.test)^2)"
   ]
  },
  {
   "cell_type": "code",
   "execution_count": 110,
   "metadata": {
    "collapsed": false
   },
   "outputs": [
    {
     "data": {
      "text/html": [
       "<dl class=dl-horizontal>\n",
       "\t<dt>(Intercept)</dt>\n",
       "\t\t<dd>19.52239936135</dd>\n",
       "\t<dt>AtBat</dt>\n",
       "\t\t<dd>0</dd>\n",
       "\t<dt>Hits</dt>\n",
       "\t\t<dd>1.87017142504315</dd>\n",
       "\t<dt>HmRun</dt>\n",
       "\t\t<dd>0</dd>\n",
       "\t<dt>Runs</dt>\n",
       "\t\t<dd>0</dd>\n",
       "\t<dt>RBI</dt>\n",
       "\t\t<dd>0</dd>\n",
       "\t<dt>Walks</dt>\n",
       "\t\t<dd>2.21879344337134</dd>\n",
       "\t<dt>Years</dt>\n",
       "\t\t<dd>0</dd>\n",
       "\t<dt>CAtBat</dt>\n",
       "\t\t<dd>0</dd>\n",
       "\t<dt>CHits</dt>\n",
       "\t\t<dd>0</dd>\n",
       "\t<dt>CHmRun</dt>\n",
       "\t\t<dd>0</dd>\n",
       "\t<dt>CRuns</dt>\n",
       "\t\t<dd>0.207285189680551</dd>\n",
       "\t<dt>CRBI</dt>\n",
       "\t\t<dd>0.412798449526544</dd>\n",
       "\t<dt>CWalks</dt>\n",
       "\t\t<dd>0</dd>\n",
       "\t<dt>LeagueN</dt>\n",
       "\t\t<dd>1.75919710519015</dd>\n",
       "\t<dt>DivisionW</dt>\n",
       "\t\t<dd>-103.505140236253</dd>\n",
       "\t<dt>PutOuts</dt>\n",
       "\t\t<dd>0.220688410530198</dd>\n",
       "\t<dt>Assists</dt>\n",
       "\t\t<dd>0</dd>\n",
       "\t<dt>Errors</dt>\n",
       "\t\t<dd>0</dd>\n",
       "\t<dt>NewLeagueN</dt>\n",
       "\t\t<dd>0</dd>\n",
       "</dl>\n"
      ],
      "text/latex": [
       "\\begin{description*}\n",
       "\\item[(Intercept)] 19.52239936135\n",
       "\\item[AtBat] 0\n",
       "\\item[Hits] 1.87017142504315\n",
       "\\item[HmRun] 0\n",
       "\\item[Runs] 0\n",
       "\\item[RBI] 0\n",
       "\\item[Walks] 2.21879344337134\n",
       "\\item[Years] 0\n",
       "\\item[CAtBat] 0\n",
       "\\item[CHits] 0\n",
       "\\item[CHmRun] 0\n",
       "\\item[CRuns] 0.207285189680551\n",
       "\\item[CRBI] 0.412798449526544\n",
       "\\item[CWalks] 0\n",
       "\\item[LeagueN] 1.75919710519015\n",
       "\\item[DivisionW] -103.505140236253\n",
       "\\item[PutOuts] 0.220688410530198\n",
       "\\item[Assists] 0\n",
       "\\item[Errors] 0\n",
       "\\item[NewLeagueN] 0\n",
       "\\end{description*}\n"
      ],
      "text/markdown": [
       "(Intercept)\n",
       ":   19.52239936135AtBat\n",
       ":   0Hits\n",
       ":   1.87017142504315HmRun\n",
       ":   0Runs\n",
       ":   0RBI\n",
       ":   0Walks\n",
       ":   2.21879344337134Years\n",
       ":   0CAtBat\n",
       ":   0CHits\n",
       ":   0CHmRun\n",
       ":   0CRuns\n",
       ":   0.207285189680551CRBI\n",
       ":   0.412798449526544CWalks\n",
       ":   0LeagueN\n",
       ":   1.75919710519015DivisionW\n",
       ":   -103.505140236253PutOuts\n",
       ":   0.220688410530198Assists\n",
       ":   0Errors\n",
       ":   0NewLeagueN\n",
       ":   0\n",
       "\n"
      ],
      "text/plain": [
       " (Intercept)        AtBat         Hits        HmRun         Runs          RBI \n",
       "  19.5223994    0.0000000    1.8701714    0.0000000    0.0000000    0.0000000 \n",
       "       Walks        Years       CAtBat        CHits       CHmRun        CRuns \n",
       "   2.2187934    0.0000000    0.0000000    0.0000000    0.0000000    0.2072852 \n",
       "        CRBI       CWalks      LeagueN    DivisionW      PutOuts      Assists \n",
       "   0.4127984    0.0000000    1.7591971 -103.5051402    0.2206884    0.0000000 \n",
       "      Errors   NewLeagueN \n",
       "   0.0000000    0.0000000 "
      ]
     },
     "metadata": {},
     "output_type": "display_data"
    }
   ],
   "source": [
    "out=glmnet(x, y, alpha=1)\n",
    "predict(out, type='coefficients', s=bestlam)[1:20,]"
   ]
  },
  {
   "cell_type": "markdown",
   "metadata": {},
   "source": [
    "### Lab3: Princple Component Regression and Partial Linear Regression"
   ]
  },
  {
   "cell_type": "markdown",
   "metadata": {},
   "source": [
    "Use the function **`pcr()`** of the library **`pls`** to do the PCR. `pls` is a package for Partial Least Squares and Principal Component Regression"
   ]
  },
  {
   "cell_type": "code",
   "execution_count": 112,
   "metadata": {
    "collapsed": false
   },
   "outputs": [],
   "source": [
    "library(pls)\n",
    "set.seed(2)\n",
    "pcr.fit=pcr(Salary~., data=Hitters, scale=TRUE, validation='CV') # by default use 10-fold CV for each value of M"
   ]
  },
  {
   "cell_type": "code",
   "execution_count": 114,
   "metadata": {
    "collapsed": false
   },
   "outputs": [
    {
     "name": "stdout",
     "output_type": "stream",
     "text": [
      "Data: \tX dimension: 263 19 \n",
      "\tY dimension: 263 1\n",
      "Fit method: svdpc\n",
      "Number of components considered: 19\n",
      "\n",
      "VALIDATION: RMSEP\n",
      "Cross-validated using 10 random segments.\n",
      "       (Intercept)  1 comps  2 comps  3 comps  4 comps  5 comps  6 comps\n",
      "CV             452    348.9    352.2    353.5    352.8    350.1    349.1\n",
      "adjCV          452    348.7    351.8    352.9    352.1    349.3    348.0\n",
      "       7 comps  8 comps  9 comps  10 comps  11 comps  12 comps  13 comps\n",
      "CV       349.6    350.9    352.9     353.8     355.0     356.2     363.5\n",
      "adjCV    348.5    349.8    351.6     352.3     353.4     354.5     361.6\n",
      "       14 comps  15 comps  16 comps  17 comps  18 comps  19 comps\n",
      "CV        355.2     357.4     347.6     350.1     349.2     352.6\n",
      "adjCV     352.8     355.2     345.5     347.6     346.7     349.8\n",
      "\n",
      "TRAINING: % variance explained\n",
      "        1 comps  2 comps  3 comps  4 comps  5 comps  6 comps  7 comps  8 comps\n",
      "X         38.31    60.16    70.84    79.03    84.29    88.63    92.26    94.96\n",
      "Salary    40.63    41.58    42.17    43.22    44.90    46.48    46.69    46.75\n",
      "        9 comps  10 comps  11 comps  12 comps  13 comps  14 comps  15 comps\n",
      "X         96.28     97.26     97.98     98.65     99.15     99.47     99.75\n",
      "Salary    46.86     47.76     47.82     47.85     48.10     50.40     50.55\n",
      "        16 comps  17 comps  18 comps  19 comps\n",
      "X          99.89     99.97     99.99    100.00\n",
      "Salary     53.01     53.85     54.61     54.61\n"
     ]
    }
   ],
   "source": [
    "summary(pcr.fit)"
   ]
  },
  {
   "cell_type": "markdown",
   "metadata": {},
   "source": [
    "NOTE: The reported CV above is the root mean square error, needed to be squared for the real MSE, use the following validation plot to see the MSE"
   ]
  },
  {
   "cell_type": "code",
   "execution_count": 115,
   "metadata": {
    "collapsed": false
   },
   "outputs": [
    {
     "data": {
      "image/png": "[encoded data removed]",
      "text/plain": [
       "Plot with title \"Salary\""
      ]
     },
     "metadata": {},
     "output_type": "display_data"
    }
   ],
   "source": [
    " validationplot(pcr.fit,val.type=\"MSEP\")"
   ]
  },
  {
   "cell_type": "code",
   "execution_count": null,
   "metadata": {
    "collapsed": true
   },
   "outputs": [],
   "source": []
  }
 ],
 "metadata": {
  "anaconda-cloud": {},
  "kernelspec": {
   "display_name": "R",
   "language": "R",
   "name": "ir"
  },
  "language_info": {
   "codemirror_mode": "r",
   "file_extension": ".r",
   "mimetype": "text/x-r-source",
   "name": "R",
   "pygments_lexer": "r",
   "version": "3.3.2"
  }
 },
 "nbformat": 4,
 "nbformat_minor": 0
}
